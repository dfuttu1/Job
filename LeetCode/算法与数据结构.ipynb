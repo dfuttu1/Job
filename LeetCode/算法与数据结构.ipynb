{
 "cells": [
  {
   "cell_type": "code",
   "execution_count": 2,
   "metadata": {},
   "outputs": [
    {
     "data": {
      "text/plain": [
       "6"
      ]
     },
     "execution_count": 2,
     "metadata": {},
     "output_type": "execute_result"
    }
   ],
   "source": [
    "L = 3\n",
    "R = 10\n",
    "mid = L + ((R - L) >> 1)\n",
    "mid"
   ]
  },
  {
   "cell_type": "code",
   "execution_count": 6,
   "metadata": {},
   "outputs": [
    {
     "data": {
      "text/plain": [
       "7"
      ]
     },
     "execution_count": 6,
     "metadata": {},
     "output_type": "execute_result"
    }
   ],
   "source": [
    "def process(list, L, R):\n",
    "    if L == R:\n",
    "        return list[L]\n",
    "    mid = L + ((R - L) >> 1)\n",
    "    leftMax = process(list, L, mid) # T(N/2)\n",
    "    rightMax = process(list, mid+1, R) # T(N/2)\n",
    "\n",
    "    return max(leftMax, rightMax) # O(1)\n",
    "list = [3,2,5,6,7,4]\n",
    "process(list, 0, len(list)-1)"
   ]
  },
  {
   "cell_type": "markdown",
   "metadata": {},
   "source": [
    "递归复杂度"
   ]
  },
  {
   "cell_type": "markdown",
   "metadata": {},
   "source": [
    "master公式：$T(N) = a * T(\\frac{N}{b}) + O(N^d)$\n",
    "- $\\log_b a < d \\to O(N^d)$\n",
    "- $\\log_b a > d \\to O(N^{\\log_b a})$\n",
    "- $\\log_b a = d \\to O(N^d * \\log N)$"
   ]
  },
  {
   "cell_type": "markdown",
   "metadata": {},
   "source": [
    "process复杂度：\n",
    "\n",
    "$T(N) = 2 * T(\\frac{N}{2})$\n",
    "\n",
    "$\\log_2 2 > 0 \\to O(N^{\\log_2 2}) = O(N)$"
   ]
  },
  {
   "cell_type": "markdown",
   "metadata": {},
   "source": [
    "# 归并排序"
   ]
  },
  {
   "cell_type": "code",
   "execution_count": 54,
   "metadata": {},
   "outputs": [],
   "source": [
    "def MergeSort(list):\n",
    "    if list is None or len(list) < 2:\n",
    "        return ;\n",
    "    return process(list, 0, len(list) - 1)\n",
    "\n",
    "def process(list, L, R):\n",
    "    if L == R:\n",
    "        return ;\n",
    "    mid = L + ((R - L) >> 1)\n",
    "    process(list, L, mid) # T(N/2)\n",
    "    process(list, mid+1, R) # T(N/2)\n",
    "    merge(list, L, mid, R)\n",
    "    return list\n",
    "\n",
    "def merge(list, L, M, R):\n",
    "    tmp = []\n",
    "    p1, p2 = L, M + 1\n",
    "    while p1 <= M and p2 <= R:\n",
    "        if list[p1] <= list[p2]:\n",
    "            tmp.append(list[p1])\n",
    "            p1 += 1\n",
    "        else:\n",
    "            tmp.append(list[p2])\n",
    "            p2 += 1\n",
    "\n",
    "    while p1 <= M:           # p1 没越界\n",
    "        tmp.append(list[p1])\n",
    "        p1 += 1\n",
    "    while p2 <= R:           # p2 没越界\n",
    "        tmp.append(list[p2])\n",
    "        p2 += 1\n",
    "\n",
    "    list[L:R+1] = tmp"
   ]
  },
  {
   "cell_type": "code",
   "execution_count": 55,
   "metadata": {},
   "outputs": [
    {
     "data": {
      "text/plain": [
       "[1, 1, 2, 3, 3, 4, 6, 7, 10]"
      ]
     },
     "execution_count": 55,
     "metadata": {},
     "output_type": "execute_result"
    }
   ],
   "source": [
    "list = [3, 1, 3, 2, 4, 6, 7, 10, 1]\n",
    "MergeSort(list)"
   ]
  },
  {
   "cell_type": "markdown",
   "metadata": {},
   "source": [
    "$T(N) = 2T(\\frac{N}{2}) + O(N)$\n",
    "\n",
    "$\\log_2 2 = 1 \\to O(N \\log N)$\n",
    "\n",
    "时间复杂度$O(N \\log N)$，空间复杂度$O(N)$"
   ]
  },
  {
   "cell_type": "markdown",
   "metadata": {},
   "source": [
    "## 小和问题\n",
    "\n",
    "![小和问题](./Images/%E5%B0%8F%E5%92%8C%E9%97%AE%E9%A2%98.png)"
   ]
  },
  {
   "cell_type": "code",
   "execution_count": 43,
   "metadata": {},
   "outputs": [],
   "source": [
    "def SmallNum(list):\n",
    "    if list is None or len(list) < 2:\n",
    "        return ;\n",
    "    return process(list, 0, len(list) - 1)\n",
    "\n",
    "def process(list, l, r):\n",
    "    if l == r:\n",
    "        return 0;\n",
    "    mid = l + ((r - l) >> 1)\n",
    "    return process(list, l, mid) + process(list, mid+1, r) + merge(list, l, mid, r)\n",
    "\n",
    "def merge(list, l, m, r):\n",
    "    tmp = []\n",
    "    p1, p2 = l, m + 1\n",
    "    res = 0\n",
    "    while p1 <= m and p2 <= r:\n",
    "        if list[p1] < list[p2]:\n",
    "            res += (r - p2 + 1) * list[p1]\n",
    "            tmp.append(list[p1])\n",
    "            p1 += 1\n",
    "        else:\n",
    "            tmp.append(list[p2])\n",
    "            p2 += 1\n",
    "    \n",
    "    while p1 <= m:           # p1 没越界\n",
    "        tmp.append(list[p1])\n",
    "        p1 += 1\n",
    "    while p2 <= r:           # p2 没越界\n",
    "        tmp.append(list[p2])\n",
    "        p2 += 1\n",
    "    \n",
    "    list[l:r+1] = tmp\n",
    "    return res"
   ]
  },
  {
   "cell_type": "code",
   "execution_count": 44,
   "metadata": {},
   "outputs": [
    {
     "data": {
      "text/plain": [
       "16"
      ]
     },
     "execution_count": 44,
     "metadata": {},
     "output_type": "execute_result"
    }
   ],
   "source": [
    "list = [1, 3, 4, 2, 5]\n",
    "SmallNum(list)"
   ]
  },
  {
   "cell_type": "markdown",
   "metadata": {},
   "source": [
    "## 逆序对问题"
   ]
  },
  {
   "cell_type": "markdown",
   "metadata": {},
   "source": [
    "![逆序对问题](./Images/逆序对问题.png)"
   ]
  },
  {
   "cell_type": "markdown",
   "metadata": {},
   "source": [
    "# 快排"
   ]
  },
  {
   "cell_type": "code",
   "execution_count": 303,
   "metadata": {},
   "outputs": [],
   "source": [
    "import random\n",
    "def quickSort(list):\n",
    "    if list is None or len(list) < 2:\n",
    "        return ;\n",
    "    return process(list, 0, len(list) - 1)\n",
    "def process(list, L, R):\n",
    "    if L >= R:\n",
    "        return ;\n",
    "    sec = random.randint(L, R)\n",
    "    list[sec], list[R] = list[R], list[sec]\n",
    "    p = partition(list, L, R)\n",
    "    process(list, L, p[0]) # < 区\n",
    "    process(list, p[1], R) # > 区\n",
    "    return list\n",
    "def partition(list, L, R):\n",
    "    less, more = L - 1, R # <右区边界，>区左边界\n",
    "    while L < more:\n",
    "        if list[L] < list[R]:\n",
    "            less += 1\n",
    "            list[L], list[less] = list[less], list[L]\n",
    "            L += 1\n",
    "        elif list[L] > list[R]:\n",
    "            more -= 1\n",
    "            list[L], list[more] = list[more], list[L]\n",
    "        else:\n",
    "            L += 1\n",
    "    list[R], list[more] = list[more], list[R]\n",
    "    return less, more+1"
   ]
  },
  {
   "cell_type": "code",
   "execution_count": 268,
   "metadata": {},
   "outputs": [
    {
     "data": {
      "text/plain": [
       "0"
      ]
     },
     "execution_count": 268,
     "metadata": {},
     "output_type": "execute_result"
    }
   ],
   "source": [
    "random.randint(0, 5)"
   ]
  },
  {
   "cell_type": "code",
   "execution_count": 304,
   "metadata": {},
   "outputs": [
    {
     "data": {
      "text/plain": [
       "[0, 1, 1, 2, 3, 3, 4, 5, 5]"
      ]
     },
     "execution_count": 304,
     "metadata": {},
     "output_type": "execute_result"
    }
   ],
   "source": [
    "list = [1, 3, 4, 2, 5, 1, 3, 5, 0]\n",
    "quickSort(list)"
   ]
  },
  {
   "cell_type": "markdown",
   "metadata": {},
   "source": [
    "# 堆排序"
   ]
  },
  {
   "cell_type": "code",
   "execution_count": 394,
   "metadata": {},
   "outputs": [],
   "source": [
    "def heapSort(list):\n",
    "    if list is None or len(list) < 2:\n",
    "        return ;\n",
    "\n",
    "    for i in range(len(list)): # 向上维护大根堆\n",
    "        heapInsert(list, i)\n",
    "    \n",
    "    heapSize = len(list) - 1\n",
    "    while heapSize > 0:\n",
    "        list[0], list[heapSize] = list[heapSize], list[0]\n",
    "        heapSize -= 1\n",
    "        heapify(list, 0, heapSize) # 向下维护大根堆\n",
    "    return list\n",
    "\n",
    "def heapInsert(list, index):\n",
    "    while index > 0 and list[index] > list[(index-1) // 2]:\n",
    "        list[index], list[(index-1) // 2] = list[(index-1) // 2], list[index]\n",
    "        index = (index - 1) // 2\n",
    "    return list\n",
    "\n",
    "def heapify(list, index, heapSize):\n",
    "    left = index * 2 + 1 # 左孩子下标\n",
    "    while left < heapSize:\n",
    "        largest = left\n",
    "        if left + 1 < heapSize and list[left + 1] > list[left]:\n",
    "            largest = left + 1\n",
    "        if list[largest] <= list[index]:\n",
    "            largest = index\n",
    "        if largest == index:\n",
    "            return list\n",
    "        list[largest], list[index] = list[index], list[largest]\n",
    "        index = largest\n",
    "        left = index * 2 + 1\n",
    "    return list"
   ]
  },
  {
   "cell_type": "code",
   "execution_count": 406,
   "metadata": {},
   "outputs": [],
   "source": [
    "def heapify(list, index, heapSize):\n",
    "    left = index * 2 + 1 # 左孩子下标\n",
    "    largest = index\n",
    "    if left < heapSize and list[left] > list[largest]:\n",
    "        largest = left\n",
    "    if left + 1 < heapSize and list[left + 1] > list[largest]:\n",
    "        largest = left + 1\n",
    "    if largest == index:\n",
    "        return list\n",
    "    list[largest], list[index] = list[index], list[largest]\n",
    "    heapify(list, largest, heapSize)\n",
    "    return list\n",
    "\n",
    "def heapSort(list):\n",
    "    if list is None or len(list) < 2:\n",
    "        return ;\n",
    "\n",
    "    n = len(list)\n",
    "    i = n // 2 - 1\n",
    "    while i >= 0:\n",
    "        heapify(list, i, n-1)\n",
    "        i -= 1\n",
    "    # 排序\n",
    "    low = n - 1\n",
    "    while low > 0:\n",
    "        list[low], list[0] = list[0], list[low]\n",
    "        low -= 1\n",
    "        heapify(list, 0, low)\n",
    "    return list"
   ]
  },
  {
   "cell_type": "code",
   "execution_count": 407,
   "metadata": {},
   "outputs": [
    {
     "data": {
      "text/plain": [
       "[0, 1, 1, 2, 3, 3, 4, 5, 5]"
      ]
     },
     "execution_count": 407,
     "metadata": {},
     "output_type": "execute_result"
    }
   ],
   "source": [
    "list = [1, 3, 4, 2, 5, 1, 3, 5, 0]\n",
    "heapSort(list)"
   ]
  },
  {
   "cell_type": "code",
   "execution_count": 11,
   "metadata": {},
   "outputs": [
    {
     "data": {
      "text/plain": [
       "dict_items([(1, 'cheng'), (2, 'zhuo')])"
      ]
     },
     "execution_count": 11,
     "metadata": {},
     "output_type": "execute_result"
    }
   ],
   "source": [
    "a = {1:\"cheng\", 2:\"zhuo\"}\n",
    "a.items()"
   ]
  },
  {
   "cell_type": "code",
   "execution_count": 18,
   "metadata": {},
   "outputs": [
    {
     "data": {
      "text/plain": [
       "[10, 1, 3, 4, 2, 5, 1, 3, 5, 0]"
      ]
     },
     "execution_count": 18,
     "metadata": {},
     "output_type": "execute_result"
    }
   ],
   "source": [
    "list = [1, 3, 4, 2, 5, 1, 3, 5, 0]\n",
    "list.insert(0, 10)\n",
    "list"
   ]
  },
  {
   "cell_type": "markdown",
   "metadata": {},
   "source": [
    "# 数组与列表"
   ]
  },
  {
   "cell_type": "markdown",
   "metadata": {},
   "source": [
    "- 数组元素类型相同\n",
    "- 数组长度固定"
   ]
  },
  {
   "cell_type": "markdown",
   "metadata": {},
   "source": [
    "# 栈"
   ]
  },
  {
   "cell_type": "code",
   "execution_count": 37,
   "metadata": {},
   "outputs": [],
   "source": [
    "class Stack:\n",
    "    def __init__(self):\n",
    "        self.stack = []\n",
    "    def push(self, value):\n",
    "        self.stack.append(value)\n",
    "    def pop(self):\n",
    "        if not self.stack:\n",
    "            return None\n",
    "        return self.stack.pop()\n",
    "    def get_top(self):\n",
    "        if not self.stack:\n",
    "            return None\n",
    "        return self.stack[-1]\n",
    "    \n",
    "    def is_empty(self):\n",
    "        return len(self.stack) == 0"
   ]
  },
  {
   "cell_type": "code",
   "execution_count": 34,
   "metadata": {},
   "outputs": [],
   "source": [
    "stack = Stack()\n",
    "stack.push(1)\n",
    "# stack.push(2)\n",
    "# stack.push(3)\n",
    "stack.pop()\n",
    "stack.get_top()\n",
    "# stack.pop()"
   ]
  },
  {
   "cell_type": "markdown",
   "metadata": {},
   "source": [
    "## 括号匹配"
   ]
  },
  {
   "cell_type": "code",
   "execution_count": 77,
   "metadata": {},
   "outputs": [],
   "source": [
    "def brace_match(s):\n",
    "    match = {'}':'{', '{':'}', ']':'[', '[':']', ')':'(', '(':')'}\n",
    "    stack = Stack()\n",
    "    for ch in s:\n",
    "        if ch in {'(', '[', '{'}:\n",
    "            stack.push(ch)\n",
    "        elif ch in {')', ']', '}'}:\n",
    "            if stack.get_top() == match[ch]:\n",
    "                stack.pop()\n",
    "            else:\n",
    "                return False\n",
    "    if stack.is_empty():\n",
    "        return True\n",
    "    return False"
   ]
  },
  {
   "cell_type": "code",
   "execution_count": 82,
   "metadata": {},
   "outputs": [
    {
     "data": {
      "text/plain": [
       "False"
      ]
     },
     "execution_count": 82,
     "metadata": {},
     "output_type": "execute_result"
    }
   ],
   "source": [
    "# brace_match('{aaaa}[{()[]sss}]((()))')\n",
    "# brace_match('{aaaa}[{()[(])sss}]((()))')\n",
    "# brace_match('({)}')\n",
    "brace_match(']{}')"
   ]
  },
  {
   "cell_type": "markdown",
   "metadata": {},
   "source": [
    "# 队列\n",
    "![环形队列](./Images/%E7%8E%AF%E5%BD%A2%E9%98%9F%E5%88%97.png)"
   ]
  },
  {
   "cell_type": "markdown",
   "metadata": {},
   "source": [
    "环形队列：当队尾指针rear == MaxSize + 1时，再前进一个位置就自动到0.\n",
    "- 队首指针前进1：front = (front+1) % MaxSize\n",
    "- 队尾指针前进1：rear = (rear+1) % MaxSize\n",
    "- 队空条件：rear == front\n",
    "- 队满条件：(rear + 1) % MaxSize == front"
   ]
  },
  {
   "cell_type": "code",
   "execution_count": 8,
   "metadata": {},
   "outputs": [],
   "source": [
    "class Queue:\n",
    "    def __init__(self, size=100):\n",
    "        self.queue = [None] * size\n",
    "        self.size = size\n",
    "        # 队首和队尾指针\n",
    "        self.front, self.rear = 0, 0\n",
    "\n",
    "    def push(self, value):\n",
    "        if self.is_filled():\n",
    "            raise IndexError(\"Queue is filled!\")\n",
    "        self.rear = (self.rear + 1) % self.size\n",
    "        self.queue[self.rear] = value\n",
    "\n",
    "    def pop(self):\n",
    "        if self.is_empty():\n",
    "            raise IndexError(\"Queue is empty!\")\n",
    "        self.front = (self.front + 1) % self.size\n",
    "        return self.queue[self.front]\n",
    "\n",
    "    def is_empty(self):\n",
    "        return self.rear == self.front\n",
    "\n",
    "    def is_filled(self):\n",
    "        return (self.rear + 1) % self.size == self.front"
   ]
  },
  {
   "cell_type": "code",
   "execution_count": 15,
   "metadata": {},
   "outputs": [
    {
     "data": {
      "text/plain": [
       "0"
      ]
     },
     "execution_count": 15,
     "metadata": {},
     "output_type": "execute_result"
    }
   ],
   "source": [
    "q = Queue(5)\n",
    "for i in range(4):\n",
    "    q.push(i)\n",
    "q.pop()"
   ]
  },
  {
   "cell_type": "code",
   "execution_count": 21,
   "metadata": {},
   "outputs": [
    {
     "data": {
      "text/plain": [
       "2"
      ]
     },
     "execution_count": 21,
     "metadata": {},
     "output_type": "execute_result"
    }
   ],
   "source": [
    "from collections import deque\n",
    "\n",
    "q = deque([1,2,3,4,5], maxlen=5)\n",
    "q.append(6) # 队尾进队\n",
    "q.popleft() # 队首出队\n",
    "\n",
    "# # 用于双向队列\n",
    "# q.appendleft(2) # 队首进队\n",
    "# q.pop() # 队尾出队"
   ]
  },
  {
   "cell_type": "code",
   "execution_count": 29,
   "metadata": {},
   "outputs": [
    {
     "name": "stdout",
     "output_type": "stream",
     "text": [
      "555\n",
      "666\n",
      "777\n",
      "888\n",
      "999"
     ]
    }
   ],
   "source": [
    "def tail(n):\n",
    "    with open('./File/test.txt', 'r') as f:\n",
    "        q = deque(f, n)\n",
    "        return q\n",
    "for line in tail(5):\n",
    "    print(line, end='')"
   ]
  },
  {
   "cell_type": "markdown",
   "metadata": {},
   "source": [
    "# 栈和队列的应用——迷宫问题\n",
    "给定一个二维列表，表示迷宫（0表示通道，1表示围墙）。给出算法，求一条走出迷宫的路径。\n",
    "![迷宫问题](./Images/迷宫问题.png)\n"
   ]
  },
  {
   "cell_type": "markdown",
   "metadata": {},
   "source": [
    "## 深度优先搜索（回溯法）\n",
    "![回溯法](./Images/回溯法.png)"
   ]
  },
  {
   "cell_type": "code",
   "execution_count": 72,
   "metadata": {},
   "outputs": [],
   "source": [
    "maze = [\n",
    "    [1,1,1,1,1,1,1,1,1,1],\n",
    "    [1,0,0,1,0,0,0,1,0,1],\n",
    "    [1,0,0,1,0,0,0,1,0,1],\n",
    "    [1,0,0,0,0,1,1,0,0,1],\n",
    "    [1,0,1,1,1,0,0,0,0,1],\n",
    "    [1,0,0,0,1,0,0,0,0,1],\n",
    "    [1,0,1,0,0,0,1,0,0,1],\n",
    "    [1,0,1,1,1,0,1,1,0,1],\n",
    "    [1,1,0,0,0,0,0,0,0,1],\n",
    "    [1,1,1,1,1,1,1,1,1,1]\n",
    "]\n",
    "# 上， 右，下，左\n",
    "dirs = [lambda x,y: (x-1,y),\n",
    "        lambda x,y: (x,y+1),\n",
    "        lambda x,y: (x+1,y),\n",
    "        lambda x,y: (x,y-1)\n",
    "        ]\n",
    "\n",
    "def maze_path(x1, y1, x2, y2):\n",
    "    stack = []\n",
    "    stack.append((x1,y1))\n",
    "    while stack:\n",
    "        curNode = stack[-1]\n",
    "        if curNode == (x2, y2):\n",
    "            # 走到终点了\n",
    "            for p in stack:\n",
    "                print(p)\n",
    "            return True\n",
    "        # (x,y) 四个方向 (x-1,y); (x+1,y); \n",
    "        # (x,y-1); (x,y+1)\n",
    "        for dir in dirs:\n",
    "            nextNode = dir(curNode[0], curNode[1])\n",
    "            # 如果下个节点能走\n",
    "            if maze[nextNode[0]][nextNode[1]] == 0:\n",
    "                stack.append(nextNode)\n",
    "                maze[nextNode[0]][nextNode[1]] = 2 # 已走过\n",
    "                break # 找到一个方向即可\n",
    "        else: # \n",
    "            maze[curNode[0]][curNode[1]] = 2\n",
    "            stack.pop()\n",
    "    print(\"没有路！\")\n",
    "    return False"
   ]
  },
  {
   "cell_type": "code",
   "execution_count": 73,
   "metadata": {},
   "outputs": [
    {
     "name": "stdout",
     "output_type": "stream",
     "text": [
      "(1, 1)\n",
      "(1, 2)\n",
      "(2, 2)\n",
      "(3, 2)\n",
      "(3, 1)\n",
      "(4, 1)\n",
      "(5, 1)\n",
      "(5, 2)\n",
      "(5, 3)\n",
      "(6, 3)\n",
      "(6, 4)\n",
      "(6, 5)\n",
      "(5, 5)\n",
      "(4, 5)\n",
      "(4, 6)\n",
      "(4, 7)\n",
      "(3, 7)\n",
      "(3, 8)\n",
      "(4, 8)\n",
      "(5, 8)\n",
      "(6, 8)\n",
      "(7, 8)\n",
      "(8, 8)\n"
     ]
    },
    {
     "data": {
      "text/plain": [
       "True"
      ]
     },
     "execution_count": 73,
     "metadata": {},
     "output_type": "execute_result"
    }
   ],
   "source": [
    "maze_path(1,1,8,8)"
   ]
  },
  {
   "cell_type": "markdown",
   "metadata": {},
   "source": [
    "## 广度优先搜索\n",
    "![广度优先搜索](./Images/广度优先搜索.png)"
   ]
  },
  {
   "cell_type": "code",
   "execution_count": 93,
   "metadata": {},
   "outputs": [],
   "source": [
    "from collections import deque\n",
    "maze = [\n",
    "    [1,1,1,1,1,1,1,1,1,1],\n",
    "    [1,0,0,1,0,0,0,1,0,1],\n",
    "    [1,0,0,1,0,0,0,1,0,1],\n",
    "    [1,0,0,0,0,1,1,0,0,1],\n",
    "    [1,0,1,1,1,0,0,0,0,1],\n",
    "    [1,0,0,0,1,0,0,0,0,1],\n",
    "    [1,0,1,0,0,0,1,0,0,1],\n",
    "    [1,0,1,1,1,0,1,1,0,1],\n",
    "    [1,1,0,0,0,0,0,0,0,1],\n",
    "    [1,1,1,1,1,1,1,1,1,1]\n",
    "]\n",
    "# 上， 右，下，左\n",
    "dirs = [lambda x,y: (x-1,y),\n",
    "        lambda x,y: (x,y+1),\n",
    "        lambda x,y: (x+1,y),\n",
    "        lambda x,y: (x,y-1)\n",
    "        ]\n",
    "\n",
    "def print_r(path):\n",
    "    curNode = path[-1] # 终点\n",
    "    real_path = []\n",
    "\n",
    "    while curNode[2] != -1:\n",
    "        real_path.append(curNode[0:2])\n",
    "        curNode = path[curNode[2]]\n",
    "\n",
    "    real_path.append(curNode[0:2]) # 起点\n",
    "    real_path.reverse()\n",
    "    print(real_path)\n",
    "\n",
    "def maze_path_queue(x1, y1, x2, y2):\n",
    "    q = deque()\n",
    "    q.append((x1, y1, -1))\n",
    "    path = []\n",
    "    while q:\n",
    "        curNode = q.popleft()\n",
    "        path.append(curNode)\n",
    "        if curNode[0:2] == (x2,y2):\n",
    "            # 到达终点\n",
    "            print_r(path)\n",
    "            return True\n",
    "        for dir in dirs:\n",
    "            nextNode = dir(curNode[0], curNode[1])\n",
    "            if maze[nextNode[0]][nextNode[1]] == 0:\n",
    "                q.append((nextNode[0], nextNode[1], len(path)-1)) #后续节点进队，记录上一个节点\n",
    "                maze[nextNode[0]][nextNode[1]] = 2 # 已走过\n",
    "    print(\"没有路！\")\n",
    "    return False"
   ]
  },
  {
   "cell_type": "code",
   "execution_count": 94,
   "metadata": {},
   "outputs": [
    {
     "name": "stdout",
     "output_type": "stream",
     "text": [
      "[(1, 1), (2, 1), (3, 1), (4, 1), (5, 1), (5, 2), (5, 3), (6, 3), (6, 4), (6, 5), (7, 5), (8, 5), (8, 6), (8, 7), (8, 8)]\n"
     ]
    },
    {
     "data": {
      "text/plain": [
       "True"
      ]
     },
     "execution_count": 94,
     "metadata": {},
     "output_type": "execute_result"
    }
   ],
   "source": [
    "maze_path_queue(1,1,8,8)"
   ]
  },
  {
   "cell_type": "markdown",
   "metadata": {},
   "source": [
    "# 链表\n",
    "![链表](./Images/链表.png)"
   ]
  },
  {
   "cell_type": "code",
   "execution_count": 100,
   "metadata": {},
   "outputs": [
    {
     "data": {
      "text/plain": [
       "3"
      ]
     },
     "execution_count": 100,
     "metadata": {},
     "output_type": "execute_result"
    }
   ],
   "source": [
    "class Node:\n",
    "    def __init__(self, item):\n",
    "        self.item = item\n",
    "        self.next = None\n",
    "\n",
    "a = Node(1)\n",
    "b = Node(2)\n",
    "c = Node(3)\n",
    "\n",
    "a.next, b.next = b, c\n",
    "\n",
    "a.next.next.item"
   ]
  },
  {
   "cell_type": "markdown",
   "metadata": {},
   "source": [
    "### 创建链表\n",
    "![创建链表](./Images/创建链表.png)"
   ]
  },
  {
   "cell_type": "code",
   "execution_count": 112,
   "metadata": {},
   "outputs": [],
   "source": [
    "def create_linklist_head(li):\n",
    "    head = Node(li[0])\n",
    "    for element in li[1:]:\n",
    "        node = Node(element)\n",
    "        node.next = head\n",
    "        head = node\n",
    "    return head\n",
    "\n",
    "def create_linklist_tail(li):\n",
    "    head = Node(li[0])\n",
    "    tail = head\n",
    "    for element in li[1:]:\n",
    "        node = Node(element)\n",
    "        tail.next = node\n",
    "        tail = node\n",
    "    return head"
   ]
  },
  {
   "cell_type": "markdown",
   "metadata": {},
   "source": [
    "### 链表的遍历\n"
   ]
  },
  {
   "cell_type": "code",
   "execution_count": 127,
   "metadata": {},
   "outputs": [],
   "source": [
    "def print_linklist(lk):\n",
    "    while lk:\n",
    "        print(lk.item, end=',')\n",
    "        lk = lk.next"
   ]
  },
  {
   "cell_type": "code",
   "execution_count": 125,
   "metadata": {},
   "outputs": [
    {
     "name": "stdout",
     "output_type": "stream",
     "text": [
      "8,6,3,2,1,\n",
      "\n",
      "1,2,3,6,8,"
     ]
    }
   ],
   "source": [
    "lk_head = create_linklist_head([1,2,3,6,8])\n",
    "lk_tail = create_linklist_tail([1,2,3,6,8])\n",
    "print_linklist(lk_head)\n",
    "print(\"\\n\")\n",
    "print_linklist(lk_tail)"
   ]
  },
  {
   "cell_type": "markdown",
   "metadata": {},
   "source": [
    "### 链表的插入\n",
    "- p.next = curNode.next\n",
    "- curNode.next = p\n",
    "### 链表的删除\n",
    "- p = curNode.next\n",
    "- curNode.next = p.next\n",
    "- del p"
   ]
  },
  {
   "cell_type": "markdown",
   "metadata": {},
   "source": [
    "## 双链表"
   ]
  },
  {
   "cell_type": "code",
   "execution_count": 128,
   "metadata": {},
   "outputs": [],
   "source": [
    "class Node:\n",
    "    def __init__(self, item=None):\n",
    "        self.item = item\n",
    "        self.next = None\n",
    "        self.prior = None"
   ]
  },
  {
   "cell_type": "markdown",
   "metadata": {},
   "source": [
    "### 双链表的插入\n",
    "- p.next = curNode.next\n",
    "- curNode.next.prior = p\n",
    "- p.prior = curNode\n",
    "- curNode.next = p\n",
    "### 双链表的删除\n",
    "- p = curNode.next\n",
    "- curNode.next = p.next\n",
    "- p.next.prior = curNode\n",
    "- del p"
   ]
  },
  {
   "cell_type": "markdown",
   "metadata": {},
   "source": [
    "## 链表——复杂度分析\n",
    "顺序表（数组/列表）与链表\n",
    "- 按元素值查找：顺序表O(n)，链表O(n)\n",
    "- 按下标查找：顺序表O(1)，链表O(n)\n",
    "- 在某元素后插入：顺序表O(n)，链表O(1)\n",
    "- 删除某元素：顺序表O(n)，链表O(1)\n",
    "\n",
    "顺序表（数组/列表）与链表\n",
    "- 链表在插入和删除的操作上明显快于顺序表\n",
    "- 链表的内存可以更灵活分配（试利用链表重新实现栈和队列）\n",
    "- 链表这种链式存储的数据结构对树和图的结构有很大的启发性"
   ]
  },
  {
   "cell_type": "code",
   "execution_count": 129,
   "metadata": {},
   "outputs": [],
   "source": [
    "# class stack:\n",
    "#     def __init__(self):\n",
    "#         self.stack = self.Node(None)\n",
    "\n",
    "#     def Node(self, item=None):\n",
    "#         self.item = item\n",
    "#         self.next = None\n",
    "\n",
    "#     def insert_head(self, p):\n",
    "#         p.next = self.stack\n",
    "#         self.stack = p\n",
    "\n",
    "#     def delete_tail(self):\n",
    "#         while self.stack:\n",
    "#             self.stack = self.stack.next\n",
    "\n",
    "#     def push(self, value):\n",
    "#         self.insertNode(value)\n",
    "    \n",
    "#     def pop(self):\n",
    "#         self.delteNode()"
   ]
  },
  {
   "cell_type": "markdown",
   "metadata": {},
   "source": [
    "# 哈希表\n",
    "哈希表：一个通过哈希函数来计算数据存储位置的数据结构，通常支持如下操作：\n",
    "- insert(key, value)：插入键值对(key, value)\n",
    "- get(key)：如果存在键为key的键值对则返回其value，否则返回空值\n",
    "- delete(key)：删除键为key的键值对"
   ]
  },
  {
   "cell_type": "markdown",
   "metadata": {},
   "source": [
    "## 直接寻址表\n",
    "![直接寻址表](./Images/直接寻址表.png)\n",
    "直接寻址技术缺点：\n",
    "- 当域U很大时，需要消耗大量内存，很不实际\n",
    "- 如果域U很大而实际出现的key很少，则大量空间被浪费\n",
    "- 无法处理关键字不是数字的情况\n",
    "\n",
    "## 哈希\n",
    "直接寻址表：key为k的元素放到k位置上\n",
    "改进直接寻址表：哈希（Hashing）\n",
    "- 构建大小为m的寻址表T\n",
    "- key为k的元素放到h(k)位置上\n",
    "- h(k)是一个函数，其讲域映射到表T[0,$\\dots$,m-1]\n",
    "\n",
    "![哈希表](./Images/哈希表.png)\n",
    "\n",
    "## 哈希冲突\n",
    "由于哈希表的大小是有限的，而要存储的值的总数量是无限的，因此对于任何哈希函数，都会出现两个不同元素映射到同一个位置上的情况，这种情况叫做<font color=red>哈希冲突</font>。\n",
    "\n",
    "比如$h(k) = k % 7$，$h(0) = h(7) = h(14) = \\cdots$"
   ]
  },
  {
   "cell_type": "markdown",
   "metadata": {},
   "source": [
    "## 解决哈希冲突——开放寻址法\n",
    "如果哈希函数返回的位置已经有值，则可以向后探查新的位置来存储这个值。\n",
    "- 线性探查：如果位置$i$被占用，则探查$i+1, i+2, \\dots$\n",
    "- 二次探查：如果位置$i$被占用，则探查$i+1^2, i-1^2, i+2^2, i-2^2, \\dots$\n",
    "- 二度哈希：有$n$个哈希函数，当使用第1个哈希函数$h1$发生冲突时，则尝试使\n",
    "用$h2, h3, \\dots$"
   ]
  },
  {
   "cell_type": "markdown",
   "metadata": {},
   "source": [
    "## ## 解决哈希冲突——拉链法\n",
    "\n",
    "拉链法：哈希表每个位置都连接一个链表，当冲突发生时，冲突的元素将被加到该位置链表的最后。\n",
    "\n",
    "![拉链法](./Images/拉链法.png)"
   ]
  },
  {
   "cell_type": "markdown",
   "metadata": {},
   "source": [
    "## 哈希表——常见哈希函数\n",
    "\n",
    "- 除法哈希法：$h(k) = k \\% m$\n",
    "- 乘法哈希法：h(k) = floor(m*(A*k % 1))\n",
    "- 全域哈希法：$h_{a,b}(k) = ((a*k + b) \\% p) \\% m$，$a,b = 1, 2, \\dots,  p-1$"
   ]
  },
  {
   "cell_type": "code",
   "execution_count": 1,
   "metadata": {},
   "outputs": [],
   "source": [
    "class LinkList:\n",
    "    class Node:\n",
    "        def __init__(self, item=None):\n",
    "            self.item = item\n",
    "            self.next = None\n",
    "\n",
    "    class LinkListIterator:\n",
    "        def __init__(self, node):\n",
    "            self.node = node\n",
    "\n",
    "        def __next__(self):\n",
    "            if self.node:\n",
    "                curNode = self.node\n",
    "                self.node = curNode.next\n",
    "                return curNode.item\n",
    "            else:\n",
    "                raise StopIteration\n",
    "\n",
    "        def __iter__(self):\n",
    "            return self\n",
    "\n",
    "    def __init__(self, iterable=None): # iterable: 列表\n",
    "        self.head = None\n",
    "        self.tail = None\n",
    "        if iterable:\n",
    "            self.extend(iterable)\n",
    "    # 尾插法\n",
    "    def append(self, obj):\n",
    "        s = self.Node(obj)\n",
    "        if not self.head:\n",
    "            self.head, self.tail = s, s\n",
    "        else:\n",
    "            self.tail.next = s\n",
    "            self.tail = s\n",
    "\n",
    "    def extend(self, iterable):\n",
    "        for obj in iterable:\n",
    "            self.append(obj)\n",
    "\n",
    "    def find(self, obj):\n",
    "        for n in self:\n",
    "            if n == obj:\n",
    "                return True\n",
    "        return False\n",
    "\n",
    "    def __iter__(self):\n",
    "        return self.LinkListIterator(self.head)\n",
    "\n",
    "    def __repr__(self):\n",
    "        return \"<<\" + \",\".join(map(str, self)) + \">>\""
   ]
  },
  {
   "cell_type": "code",
   "execution_count": 2,
   "metadata": {},
   "outputs": [
    {
     "name": "stdout",
     "output_type": "stream",
     "text": [
      "<<1,2,3,4,5>>\n",
      "1\n",
      "2\n",
      "3\n",
      "4\n",
      "5\n"
     ]
    }
   ],
   "source": [
    "lk = LinkList([1,2,3,4,5])\n",
    "print(lk)\n",
    "for element in lk:\n",
    "    print(element)"
   ]
  },
  {
   "cell_type": "code",
   "execution_count": 9,
   "metadata": {},
   "outputs": [],
   "source": [
    "# 类似于集合的结构\n",
    "class HashTable:\n",
    "    def __init__(self, size=101):\n",
    "        self.size = size\n",
    "        self.T = [LinkList() for i in range(self.size)]\n",
    "\n",
    "    def h(self, k):\n",
    "        return k % self.size\n",
    "\n",
    "    def insert(self, k):\n",
    "        i = self.h(k)\n",
    "        if self.find(k):\n",
    "            print(\"Duplicated Insert.\")\n",
    "        else:\n",
    "            self.T[i].append(k)\n",
    "\n",
    "    def find(self, k):\n",
    "        i = self.h(k)\n",
    "        return self.T[i].find(k)\n",
    "\n",
    "    def __repr__(self):\n",
    "        return \",\".join(map(str, self.T))"
   ]
  },
  {
   "cell_type": "code",
   "execution_count": 17,
   "metadata": {},
   "outputs": [
    {
     "name": "stdout",
     "output_type": "stream",
     "text": [
      "<<0>>,<<1,102>>,<<>>,<<3,508>>,<<>>,<<>>,<<>>,<<>>,<<>>,<<>>,<<>>,<<>>,<<>>,<<>>,<<>>,<<>>,<<>>,<<>>,<<>>,<<>>,<<>>,<<>>,<<>>,<<>>,<<>>,<<>>,<<>>,<<>>,<<>>,<<>>,<<>>,<<>>,<<>>,<<>>,<<>>,<<>>,<<>>,<<>>,<<>>,<<>>,<<>>,<<>>,<<>>,<<>>,<<>>,<<>>,<<>>,<<>>,<<>>,<<>>,<<>>,<<>>,<<>>,<<>>,<<>>,<<>>,<<>>,<<>>,<<>>,<<>>,<<>>,<<>>,<<>>,<<>>,<<>>,<<>>,<<>>,<<>>,<<>>,<<>>,<<>>,<<>>,<<>>,<<>>,<<>>,<<>>,<<>>,<<>>,<<>>,<<>>,<<>>,<<>>,<<>>,<<>>,<<>>,<<>>,<<>>,<<>>,<<>>,<<>>,<<>>,<<>>,<<>>,<<>>,<<>>,<<>>,<<>>,<<>>,<<>>,<<>>,<<>>\n"
     ]
    }
   ],
   "source": [
    "ht = HashTable()\n",
    "ht.insert(0)\n",
    "ht.insert(1)\n",
    "ht.insert(3)\n",
    "ht.insert(102)\n",
    "ht.insert(508)\n",
    "# ht.insert(0)\n",
    "\n",
    "print(ht)"
   ]
  },
  {
   "cell_type": "code",
   "execution_count": 24,
   "metadata": {},
   "outputs": [
    {
     "data": {
      "text/plain": [
       "False"
      ]
     },
     "execution_count": 24,
     "metadata": {},
     "output_type": "execute_result"
    }
   ],
   "source": [
    "ht.find(203)"
   ]
  },
  {
   "cell_type": "markdown",
   "metadata": {},
   "source": [
    "## 哈希表的应用\n",
    "\n",
    "### 集合与字典\n",
    "集合和字典都是通过哈希表来实现的。\n",
    "a = {'name':'Alex', 'age':18, 'gender':'Man'}\\\\\n",
    "使用哈希表存储字典，通过哈希函数将字典的键映射为下标。假设h('name')=3，h('age')=1，h('gender')=4，则哈希表存储为[None, 18, None, 'Alex', 'Man']\n",
    "\n",
    "如果发生哈希冲突，则通过拉链法或开发寻址法解决"
   ]
  },
  {
   "cell_type": "markdown",
   "metadata": {},
   "source": [
    "### MD5算法\n",
    "MD5(Message-Digest Algorithm5)曾经是密码学中常用的哈希函数，可以把任意长度的数据映射为128位的哈希值，其曾经包含如下特征\n",
    "- 同样的消息，其MD5值必定相同；\n",
    "- 可以快速计算出任意给定消息的MD5值；\n",
    "- 除非暴力的枚举所有可能的消息，否则不可能从哈希值反推出消息本身；\n",
    "- 两条消息之间即使只有微小的差别，其对应的MD5值也应该是完全不同、完全不相关的；\n",
    "- 不能在有意义的时间内人工的构造两个不同的消息使其具有相同的MD5值。\n",
    "\n",
    "应用举例：文件的哈希值  \n",
    "- 算出文件的哈希值，若两个文件的哈希值相同，则可认为这两个文件是相同的。因此：\n",
    "- - 用户可以利用它来验证下载的文件是否完整。\n",
    "- - 云存储服务商可以利用它来判断用户要上传的文件是否已经存在于服务器上，从而实现秒传的功能，同时避免存储过多相同的文件副本。"
   ]
  },
  {
   "cell_type": "markdown",
   "metadata": {},
   "source": [
    "### SHA2算法\n",
    "历史上MD5和SHA-1曾经是使用最为广泛的cryptographic hash function,但是随着密码学的发展，  \n",
    "这两个哈希函数的安全性相继受到了各种桃战。\n",
    "\n",
    "因此现在安全性较重要的场合推荐使用SHA-2等新的更安全的哈希函数。\n",
    "\n",
    "SHA-2包含了一系列的哈希函数：SHA-224,SHA-256,SHA-384,SHA-512,  \n",
    "SHA-512/224,SHA-512/256,其对应的哈希值长度分别为224,256,384or512位。\n",
    "\n",
    "SHA-2具有和MD5类似的性质（参见MD5算法的特征）。\n",
    "\n",
    "应用举例：\n",
    "\n",
    "例如，在比特币系统中，所有参与者需要共同解决如下问题：对于一个给定的字符串U，给定的目标哈希值H，  \n",
    "需要计算出一个字符串V，使得U+V的哈希值与H的差小于一个给定值D。此时，只能通过暴力枚举V来进行猜  \n",
    "测。首先计算出结果的人可获得一定奖金。而某人首先计算成功的概率与其拥有的计算量成正比，所以其  \n",
    "获得的奖金的期望值与其拥有的计算量成正比。"
   ]
  },
  {
   "cell_type": "markdown",
   "metadata": {},
   "source": [
    "# 树\n",
    "树是一种数据结构（比如，目录结构）  \n",
    "树是一种可以递归定义的数据结构  \n",
    "树是由$n$个节点组成的集合：\n",
    "- 如果$n=0$，那这是一颗空树\n",
    "- 如果$n>0$，那存在1个节点作为树的根节点，其他节点可以分为$m$个集合，每个集合本身又是一棵树"
   ]
  },
  {
   "cell_type": "code",
   "execution_count": null,
   "metadata": {},
   "outputs": [],
   "source": []
  }
 ],
 "metadata": {
  "interpreter": {
   "hash": "7b4b4feff2f24a0f0a34464dbe537a36fda679851528fb8735cb41fa49dffb2d"
  },
  "kernelspec": {
   "display_name": "Python 3.8.5 ('base')",
   "language": "python",
   "name": "python3"
  },
  "language_info": {
   "codemirror_mode": {
    "name": "ipython",
    "version": 3
   },
   "file_extension": ".py",
   "mimetype": "text/x-python",
   "name": "python",
   "nbconvert_exporter": "python",
   "pygments_lexer": "ipython3",
   "version": "3.8.5"
  },
  "orig_nbformat": 4
 },
 "nbformat": 4,
 "nbformat_minor": 2
}
