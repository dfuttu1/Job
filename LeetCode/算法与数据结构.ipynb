{
 "cells": [
  {
   "cell_type": "code",
   "execution_count": 2,
   "metadata": {},
   "outputs": [
    {
     "data": {
      "text/plain": [
       "6"
      ]
     },
     "execution_count": 2,
     "metadata": {},
     "output_type": "execute_result"
    }
   ],
   "source": [
    "L = 3\n",
    "R = 10\n",
    "mid = L + ((R - L) >> 1)\n",
    "mid"
   ]
  },
  {
   "cell_type": "code",
   "execution_count": 6,
   "metadata": {},
   "outputs": [
    {
     "data": {
      "text/plain": [
       "7"
      ]
     },
     "execution_count": 6,
     "metadata": {},
     "output_type": "execute_result"
    }
   ],
   "source": [
    "def process(list, L, R):\n",
    "    if L == R:\n",
    "        return list[L]\n",
    "    mid = L + ((R - L) >> 1)\n",
    "    leftMax = process(list, L, mid) # T(N/2)\n",
    "    rightMax = process(list, mid+1, R) # T(N/2)\n",
    "\n",
    "    return max(leftMax, rightMax) # O(1)\n",
    "list = [3,2,5,6,7,4]\n",
    "process(list, 0, len(list)-1)"
   ]
  },
  {
   "cell_type": "markdown",
   "metadata": {},
   "source": [
    "递归复杂度"
   ]
  },
  {
   "cell_type": "markdown",
   "metadata": {},
   "source": [
    "master公式：$T(N) = a * T(\\frac{N}{b}) + O(N^d)$\n",
    "- $\\log_b a < d \\to O(N^d)$\n",
    "- $\\log_b a > d \\to O(N^{\\log_b a})$\n",
    "- $\\log_b a = d \\to O(N^d * \\log N)$"
   ]
  },
  {
   "cell_type": "markdown",
   "metadata": {},
   "source": [
    "process复杂度：\n",
    "\n",
    "$T(N) = 2 * T(\\frac{N}{2})$\n",
    "\n",
    "$\\log_2 2 > 0 \\to O(N^{\\log_2 2}) = O(N)$"
   ]
  },
  {
   "cell_type": "markdown",
   "metadata": {},
   "source": [
    "# 归并排序"
   ]
  },
  {
   "cell_type": "code",
   "execution_count": 54,
   "metadata": {},
   "outputs": [],
   "source": [
    "def MergeSort(list):\n",
    "    if list is None or len(list) < 2:\n",
    "        return ;\n",
    "    return process(list, 0, len(list) - 1)\n",
    "\n",
    "def process(list, L, R):\n",
    "    if L == R:\n",
    "        return ;\n",
    "    mid = L + ((R - L) >> 1)\n",
    "    process(list, L, mid) # T(N/2)\n",
    "    process(list, mid+1, R) # T(N/2)\n",
    "    merge(list, L, mid, R)\n",
    "    return list\n",
    "\n",
    "def merge(list, L, M, R):\n",
    "    tmp = []\n",
    "    p1, p2 = L, M + 1\n",
    "    while p1 <= M and p2 <= R:\n",
    "        if list[p1] <= list[p2]:\n",
    "            tmp.append(list[p1])\n",
    "            p1 += 1\n",
    "        else:\n",
    "            tmp.append(list[p2])\n",
    "            p2 += 1\n",
    "\n",
    "    while p1 <= M:           # p1 没越界\n",
    "        tmp.append(list[p1])\n",
    "        p1 += 1\n",
    "    while p2 <= R:           # p2 没越界\n",
    "        tmp.append(list[p2])\n",
    "        p2 += 1\n",
    "\n",
    "    list[L:R+1] = tmp"
   ]
  },
  {
   "cell_type": "code",
   "execution_count": 55,
   "metadata": {},
   "outputs": [
    {
     "data": {
      "text/plain": [
       "[1, 1, 2, 3, 3, 4, 6, 7, 10]"
      ]
     },
     "execution_count": 55,
     "metadata": {},
     "output_type": "execute_result"
    }
   ],
   "source": [
    "list = [3, 1, 3, 2, 4, 6, 7, 10, 1]\n",
    "MergeSort(list)"
   ]
  },
  {
   "cell_type": "markdown",
   "metadata": {},
   "source": [
    "$T(N) = 2T(\\frac{N}{2}) + O(N)$\n",
    "\n",
    "$\\log_2 2 = 1 \\to O(N \\log N)$\n",
    "\n",
    "时间复杂度$O(N \\log N)$，空间复杂度$O(N)$"
   ]
  },
  {
   "cell_type": "markdown",
   "metadata": {},
   "source": [
    "## 小和问题\n",
    "\n",
    "![小和问题](./Images/%E5%B0%8F%E5%92%8C%E9%97%AE%E9%A2%98.png)"
   ]
  },
  {
   "cell_type": "code",
   "execution_count": 43,
   "metadata": {},
   "outputs": [],
   "source": [
    "def SmallNum(list):\n",
    "    if list is None or len(list) < 2:\n",
    "        return ;\n",
    "    return process(list, 0, len(list) - 1)\n",
    "\n",
    "def process(list, l, r):\n",
    "    if l == r:\n",
    "        return 0;\n",
    "    mid = l + ((r - l) >> 1)\n",
    "    return process(list, l, mid) + process(list, mid+1, r) + merge(list, l, mid, r)\n",
    "\n",
    "def merge(list, l, m, r):\n",
    "    tmp = []\n",
    "    p1, p2 = l, m + 1\n",
    "    res = 0\n",
    "    while p1 <= m and p2 <= r:\n",
    "        if list[p1] < list[p2]:\n",
    "            res += (r - p2 + 1) * list[p1]\n",
    "            tmp.append(list[p1])\n",
    "            p1 += 1\n",
    "        else:\n",
    "            tmp.append(list[p2])\n",
    "            p2 += 1\n",
    "    \n",
    "    while p1 <= m:           # p1 没越界\n",
    "        tmp.append(list[p1])\n",
    "        p1 += 1\n",
    "    while p2 <= r:           # p2 没越界\n",
    "        tmp.append(list[p2])\n",
    "        p2 += 1\n",
    "    \n",
    "    list[l:r+1] = tmp\n",
    "    return res"
   ]
  },
  {
   "cell_type": "code",
   "execution_count": 44,
   "metadata": {},
   "outputs": [
    {
     "data": {
      "text/plain": [
       "16"
      ]
     },
     "execution_count": 44,
     "metadata": {},
     "output_type": "execute_result"
    }
   ],
   "source": [
    "list = [1, 3, 4, 2, 5]\n",
    "SmallNum(list)"
   ]
  },
  {
   "cell_type": "markdown",
   "metadata": {},
   "source": [
    "## 逆序对问题"
   ]
  },
  {
   "cell_type": "markdown",
   "metadata": {},
   "source": [
    "![逆序对问题](./Images/逆序对问题.png)"
   ]
  },
  {
   "cell_type": "markdown",
   "metadata": {},
   "source": [
    "# 快排"
   ]
  },
  {
   "cell_type": "code",
   "execution_count": 303,
   "metadata": {},
   "outputs": [],
   "source": [
    "import random\n",
    "def quickSort(list):\n",
    "    if list is None or len(list) < 2:\n",
    "        return ;\n",
    "    return process(list, 0, len(list) - 1)\n",
    "def process(list, L, R):\n",
    "    if L >= R:\n",
    "        return ;\n",
    "    sec = random.randint(L, R)\n",
    "    list[sec], list[R] = list[R], list[sec]\n",
    "    p = partition(list, L, R)\n",
    "    process(list, L, p[0]) # < 区\n",
    "    process(list, p[1], R) # > 区\n",
    "    return list\n",
    "def partition(list, L, R):\n",
    "    less, more = L - 1, R # <右区边界，>区左边界\n",
    "    while L < more:\n",
    "        if list[L] < list[R]:\n",
    "            less += 1\n",
    "            list[L], list[less] = list[less], list[L]\n",
    "            L += 1\n",
    "        elif list[L] > list[R]:\n",
    "            more -= 1\n",
    "            list[L], list[more] = list[more], list[L]\n",
    "        else:\n",
    "            L += 1\n",
    "    list[R], list[more] = list[more], list[R]\n",
    "    return less, more+1"
   ]
  },
  {
   "cell_type": "code",
   "execution_count": 268,
   "metadata": {},
   "outputs": [
    {
     "data": {
      "text/plain": [
       "0"
      ]
     },
     "execution_count": 268,
     "metadata": {},
     "output_type": "execute_result"
    }
   ],
   "source": [
    "random.randint(0, 5)"
   ]
  },
  {
   "cell_type": "code",
   "execution_count": 304,
   "metadata": {},
   "outputs": [
    {
     "data": {
      "text/plain": [
       "[0, 1, 1, 2, 3, 3, 4, 5, 5]"
      ]
     },
     "execution_count": 304,
     "metadata": {},
     "output_type": "execute_result"
    }
   ],
   "source": [
    "list = [1, 3, 4, 2, 5, 1, 3, 5, 0]\n",
    "quickSort(list)"
   ]
  },
  {
   "cell_type": "markdown",
   "metadata": {},
   "source": [
    "# 堆排序"
   ]
  },
  {
   "cell_type": "code",
   "execution_count": 394,
   "metadata": {},
   "outputs": [],
   "source": [
    "def heapSort(list):\n",
    "    if list is None or len(list) < 2:\n",
    "        return ;\n",
    "\n",
    "    for i in range(len(list)): # 向上维护大根堆\n",
    "        heapInsert(list, i)\n",
    "    \n",
    "    heapSize = len(list) - 1\n",
    "    while heapSize > 0:\n",
    "        list[0], list[heapSize] = list[heapSize], list[0]\n",
    "        heapSize -= 1\n",
    "        heapify(list, 0, heapSize) # 向下维护大根堆\n",
    "    return list\n",
    "\n",
    "def heapInsert(list, index):\n",
    "    while index > 0 and list[index] > list[(index-1) // 2]:\n",
    "        list[index], list[(index-1) // 2] = list[(index-1) // 2], list[index]\n",
    "        index = (index - 1) // 2\n",
    "    return list\n",
    "\n",
    "def heapify(list, index, heapSize):\n",
    "    left = index * 2 + 1 # 左孩子下标\n",
    "    while left < heapSize:\n",
    "        largest = left\n",
    "        if left + 1 < heapSize and list[left + 1] > list[left]:\n",
    "            largest = left + 1\n",
    "        if list[largest] <= list[index]:\n",
    "            largest = index\n",
    "        if largest == index:\n",
    "            return list\n",
    "        list[largest], list[index] = list[index], list[largest]\n",
    "        index = largest\n",
    "        left = index * 2 + 1\n",
    "    return list"
   ]
  },
  {
   "cell_type": "code",
   "execution_count": 406,
   "metadata": {},
   "outputs": [],
   "source": [
    "def heapify(list, index, heapSize):\n",
    "    left = index * 2 + 1 # 左孩子下标\n",
    "    largest = index\n",
    "    if left < heapSize and list[left] > list[largest]:\n",
    "        largest = left\n",
    "    if left + 1 < heapSize and list[left + 1] > list[largest]:\n",
    "        largest = left + 1\n",
    "    if largest == index:\n",
    "        return list\n",
    "    list[largest], list[index] = list[index], list[largest]\n",
    "    heapify(list, largest, heapSize)\n",
    "    return list\n",
    "\n",
    "def heapSort(list):\n",
    "    if list is None or len(list) < 2:\n",
    "        return ;\n",
    "\n",
    "    n = len(list)\n",
    "    i = n // 2 - 1\n",
    "    while i >= 0:\n",
    "        heapify(list, i, n-1)\n",
    "        i -= 1\n",
    "    # 排序\n",
    "    low = n - 1\n",
    "    while low > 0:\n",
    "        list[low], list[0] = list[0], list[low]\n",
    "        low -= 1\n",
    "        heapify(list, 0, low)\n",
    "    return list"
   ]
  },
  {
   "cell_type": "code",
   "execution_count": 407,
   "metadata": {},
   "outputs": [
    {
     "data": {
      "text/plain": [
       "[0, 1, 1, 2, 3, 3, 4, 5, 5]"
      ]
     },
     "execution_count": 407,
     "metadata": {},
     "output_type": "execute_result"
    }
   ],
   "source": [
    "list = [1, 3, 4, 2, 5, 1, 3, 5, 0]\n",
    "heapSort(list)"
   ]
  },
  {
   "cell_type": "code",
   "execution_count": 11,
   "metadata": {},
   "outputs": [
    {
     "data": {
      "text/plain": [
       "dict_items([(1, 'cheng'), (2, 'zhuo')])"
      ]
     },
     "execution_count": 11,
     "metadata": {},
     "output_type": "execute_result"
    }
   ],
   "source": [
    "a = {1:\"cheng\", 2:\"zhuo\"}\n",
    "a.items()"
   ]
  },
  {
   "cell_type": "code",
   "execution_count": 18,
   "metadata": {},
   "outputs": [
    {
     "data": {
      "text/plain": [
       "[10, 1, 3, 4, 2, 5, 1, 3, 5, 0]"
      ]
     },
     "execution_count": 18,
     "metadata": {},
     "output_type": "execute_result"
    }
   ],
   "source": [
    "list = [1, 3, 4, 2, 5, 1, 3, 5, 0]\n",
    "list.insert(0, 10)\n",
    "list"
   ]
  },
  {
   "cell_type": "markdown",
   "metadata": {},
   "source": [
    "# 数组与列表"
   ]
  },
  {
   "cell_type": "markdown",
   "metadata": {},
   "source": [
    "- 数组元素类型相同\n",
    "- 数组长度固定"
   ]
  },
  {
   "cell_type": "markdown",
   "metadata": {},
   "source": [
    "# 栈"
   ]
  },
  {
   "cell_type": "code",
   "execution_count": 37,
   "metadata": {},
   "outputs": [],
   "source": [
    "class Stack:\n",
    "    def __init__(self):\n",
    "        self.stack = []\n",
    "    def push(self, value):\n",
    "        self.stack.append(value)\n",
    "    def pop(self):\n",
    "        if not self.stack:\n",
    "            return None\n",
    "        return self.stack.pop()\n",
    "    def get_top(self):\n",
    "        if not self.stack:\n",
    "            return None\n",
    "        return self.stack[-1]\n",
    "    \n",
    "    def is_empty(self):\n",
    "        return len(self.stack) == 0"
   ]
  },
  {
   "cell_type": "code",
   "execution_count": 34,
   "metadata": {},
   "outputs": [],
   "source": [
    "stack = Stack()\n",
    "stack.push(1)\n",
    "# stack.push(2)\n",
    "# stack.push(3)\n",
    "stack.pop()\n",
    "stack.get_top()\n",
    "# stack.pop()"
   ]
  },
  {
   "cell_type": "markdown",
   "metadata": {},
   "source": [
    "## 括号匹配"
   ]
  },
  {
   "cell_type": "code",
   "execution_count": 77,
   "metadata": {},
   "outputs": [],
   "source": [
    "def brace_match(s):\n",
    "    match = {'}':'{', '{':'}', ']':'[', '[':']', ')':'(', '(':')'}\n",
    "    stack = Stack()\n",
    "    for ch in s:\n",
    "        if ch in {'(', '[', '{'}:\n",
    "            stack.push(ch)\n",
    "        elif ch in {')', ']', '}'}:\n",
    "            if stack.get_top() == match[ch]:\n",
    "                stack.pop()\n",
    "            else:\n",
    "                return False\n",
    "    if stack.is_empty():\n",
    "        return True\n",
    "    return False"
   ]
  },
  {
   "cell_type": "code",
   "execution_count": 82,
   "metadata": {},
   "outputs": [
    {
     "data": {
      "text/plain": [
       "False"
      ]
     },
     "execution_count": 82,
     "metadata": {},
     "output_type": "execute_result"
    }
   ],
   "source": [
    "# brace_match('{aaaa}[{()[]sss}]((()))')\n",
    "# brace_match('{aaaa}[{()[(])sss}]((()))')\n",
    "# brace_match('({)}')\n",
    "brace_match(']{}')"
   ]
  },
  {
   "cell_type": "markdown",
   "metadata": {},
   "source": [
    "# 队列"
   ]
  },
  {
   "cell_type": "markdown",
   "metadata": {},
   "source": [
    "![环形队列](./Images/%E7%8E%AF%E5%BD%A2%E9%98%9F%E5%88%97.png)"
   ]
  },
  {
   "cell_type": "markdown",
   "metadata": {},
   "source": [
    "环形队列：当队尾指针rear == MaxSize + 1时，再前进一个位置就自动到0.\n",
    "- 队首指针前进1：front = (front+1) % MaxSize\n",
    "- 队尾指针前进1：rear = (rear+1) % MaxSize\n",
    "- 队空条件：rear == front\n",
    "- 队满条件：(rear + 1) % MaxSize == front"
   ]
  },
  {
   "cell_type": "code",
   "execution_count": 8,
   "metadata": {},
   "outputs": [],
   "source": [
    "class Queue:\n",
    "    def __init__(self, size=100):\n",
    "        self.queue = [None] * size\n",
    "        self.size = size\n",
    "        # 队首和队尾指针\n",
    "        self.front, self.rear = 0, 0\n",
    "\n",
    "    def push(self, value):\n",
    "        if self.is_filled():\n",
    "            raise IndexError(\"Queue is filled!\")\n",
    "        self.rear = (self.rear + 1) % self.size\n",
    "        self.queue[self.rear] = value\n",
    "\n",
    "    def pop(self):\n",
    "        if self.is_empty():\n",
    "            raise IndexError(\"Queue is empty!\")\n",
    "        self.front = (self.front + 1) % self.size\n",
    "        return self.queue[self.front]\n",
    "\n",
    "    def is_empty(self):\n",
    "        return self.rear == self.front\n",
    "\n",
    "    def is_filled(self):\n",
    "        return (self.rear + 1) % self.size == self.front"
   ]
  },
  {
   "cell_type": "code",
   "execution_count": 15,
   "metadata": {},
   "outputs": [
    {
     "data": {
      "text/plain": [
       "0"
      ]
     },
     "execution_count": 15,
     "metadata": {},
     "output_type": "execute_result"
    }
   ],
   "source": [
    "q = Queue(5)\n",
    "for i in range(4):\n",
    "    q.push(i)\n",
    "q.pop()"
   ]
  },
  {
   "cell_type": "code",
   "execution_count": 21,
   "metadata": {},
   "outputs": [
    {
     "data": {
      "text/plain": [
       "2"
      ]
     },
     "execution_count": 21,
     "metadata": {},
     "output_type": "execute_result"
    }
   ],
   "source": [
    "from collections import deque\n",
    "\n",
    "q = deque([1,2,3,4,5], maxlen=5)\n",
    "q.append(6) # 队尾进队\n",
    "q.popleft() # 队首出队\n",
    "\n",
    "# # 用于双向队列\n",
    "# q.appendleft(2) # 队首进队\n",
    "# q.pop() # 队尾出队"
   ]
  },
  {
   "cell_type": "code",
   "execution_count": 29,
   "metadata": {},
   "outputs": [
    {
     "name": "stdout",
     "output_type": "stream",
     "text": [
      "555\n",
      "666\n",
      "777\n",
      "888\n",
      "999"
     ]
    }
   ],
   "source": [
    "def tail(n):\n",
    "    with open('./File/test.txt', 'r') as f:\n",
    "        q = deque(f, n)\n",
    "        return q\n",
    "for line in tail(5):\n",
    "    print(line, end='')"
   ]
  },
  {
   "cell_type": "markdown",
   "metadata": {},
   "source": [
    "# 栈和队列的应用——迷宫问题\n",
    "给定一个二维列表，表示迷宫（0表示通道，1表示围墙）。给出算法，求一条走出迷宫的路径。\n",
    "![迷宫问题](./Images/迷宫问题.png)\n"
   ]
  },
  {
   "cell_type": "markdown",
   "metadata": {},
   "source": [
    "![回溯法](./Images/回溯法.png)"
   ]
  },
  {
   "cell_type": "code",
   "execution_count": 72,
   "metadata": {},
   "outputs": [],
   "source": [
    "maze = [\n",
    "    [1,1,1,1,1,1,1,1,1,1],\n",
    "    [1,0,0,1,0,0,0,1,0,1],\n",
    "    [1,0,0,1,0,0,0,1,0,1],\n",
    "    [1,0,0,0,0,1,1,0,0,1],\n",
    "    [1,0,1,1,1,0,0,0,0,1],\n",
    "    [1,0,0,0,1,0,0,0,0,1],\n",
    "    [1,0,1,0,0,0,1,0,0,1],\n",
    "    [1,0,1,1,1,0,1,1,0,1],\n",
    "    [1,1,0,0,0,0,0,0,0,1],\n",
    "    [1,1,1,1,1,1,1,1,1,1]\n",
    "]\n",
    "# 上， 右，下，左\n",
    "dirs = [lambda x,y: (x-1,y),\n",
    "        lambda x,y: (x,y+1),\n",
    "        lambda x,y: (x+1,y),\n",
    "        lambda x,y: (x,y-1)\n",
    "        ]\n",
    "\n",
    "def maze_path(x1, y1, x2, y2):\n",
    "    stack = []\n",
    "    stack.append((x1,y1))\n",
    "    while stack:\n",
    "        curNode = stack[-1]\n",
    "        if curNode == (x2, y2):\n",
    "            # 走到终点了\n",
    "            for p in stack:\n",
    "                print(p)\n",
    "            return True\n",
    "        # (x,y) 四个方向 (x-1,y); (x+1,y); \n",
    "        # (x,y-1); (x,y+1)\n",
    "        for dir in dirs:\n",
    "            nextNode = dir(curNode[0], curNode[1])\n",
    "            # 如果下个节点能走\n",
    "            if maze[nextNode[0]][nextNode[1]] == 0:\n",
    "                stack.append(nextNode)\n",
    "                maze[nextNode[0]][nextNode[1]] = 2 # 已走过\n",
    "                break # 找到一个方向即可\n",
    "        else: # \n",
    "            maze[curNode[0]][curNode[1]] = 2\n",
    "            stack.pop()\n",
    "    print(\"没有路！\")\n",
    "    return False"
   ]
  },
  {
   "cell_type": "code",
   "execution_count": 73,
   "metadata": {},
   "outputs": [
    {
     "name": "stdout",
     "output_type": "stream",
     "text": [
      "(1, 1)\n",
      "(1, 2)\n",
      "(2, 2)\n",
      "(3, 2)\n",
      "(3, 1)\n",
      "(4, 1)\n",
      "(5, 1)\n",
      "(5, 2)\n",
      "(5, 3)\n",
      "(6, 3)\n",
      "(6, 4)\n",
      "(6, 5)\n",
      "(5, 5)\n",
      "(4, 5)\n",
      "(4, 6)\n",
      "(4, 7)\n",
      "(3, 7)\n",
      "(3, 8)\n",
      "(4, 8)\n",
      "(5, 8)\n",
      "(6, 8)\n",
      "(7, 8)\n",
      "(8, 8)\n"
     ]
    },
    {
     "data": {
      "text/plain": [
       "True"
      ]
     },
     "execution_count": 73,
     "metadata": {},
     "output_type": "execute_result"
    }
   ],
   "source": [
    "maze_path(1,1,8,8)"
   ]
  },
  {
   "cell_type": "markdown",
   "metadata": {},
   "source": [
    "![广度优先搜索](./Images/广度优先搜索.png)"
   ]
  },
  {
   "cell_type": "code",
   "execution_count": 93,
   "metadata": {},
   "outputs": [],
   "source": [
    "from collections import deque\n",
    "maze = [\n",
    "    [1,1,1,1,1,1,1,1,1,1],\n",
    "    [1,0,0,1,0,0,0,1,0,1],\n",
    "    [1,0,0,1,0,0,0,1,0,1],\n",
    "    [1,0,0,0,0,1,1,0,0,1],\n",
    "    [1,0,1,1,1,0,0,0,0,1],\n",
    "    [1,0,0,0,1,0,0,0,0,1],\n",
    "    [1,0,1,0,0,0,1,0,0,1],\n",
    "    [1,0,1,1,1,0,1,1,0,1],\n",
    "    [1,1,0,0,0,0,0,0,0,1],\n",
    "    [1,1,1,1,1,1,1,1,1,1]\n",
    "]\n",
    "# 上， 右，下，左\n",
    "dirs = [lambda x,y: (x-1,y),\n",
    "        lambda x,y: (x,y+1),\n",
    "        lambda x,y: (x+1,y),\n",
    "        lambda x,y: (x,y-1)\n",
    "        ]\n",
    "\n",
    "def print_r(path):\n",
    "    curNode = path[-1] # 终点\n",
    "    real_path = []\n",
    "\n",
    "    while curNode[2] != -1:\n",
    "        real_path.append(curNode[0:2])\n",
    "        curNode = path[curNode[2]]\n",
    "\n",
    "    real_path.append(curNode[0:2]) # 起点\n",
    "    real_path.reverse()\n",
    "    print(real_path)\n",
    "\n",
    "def maze_path_queue(x1, y1, x2, y2):\n",
    "    q = deque()\n",
    "    q.append((x1, y1, -1))\n",
    "    path = []\n",
    "    while q:\n",
    "        curNode = q.popleft()\n",
    "        path.append(curNode)\n",
    "        if curNode[0:2] == (x2,y2):\n",
    "            # 到达终点\n",
    "            print_r(path)\n",
    "            return True\n",
    "        for dir in dirs:\n",
    "            nextNode = dir(curNode[0], curNode[1])\n",
    "            if maze[nextNode[0]][nextNode[1]] == 0:\n",
    "                q.append((nextNode[0], nextNode[1], len(path)-1)) #后续节点进队，记录上一个节点\n",
    "                maze[nextNode[0]][nextNode[1]] = 2 # 已走过\n",
    "    print(\"没有路！\")\n",
    "    return False"
   ]
  },
  {
   "cell_type": "code",
   "execution_count": 94,
   "metadata": {},
   "outputs": [
    {
     "name": "stdout",
     "output_type": "stream",
     "text": [
      "[(1, 1), (2, 1), (3, 1), (4, 1), (5, 1), (5, 2), (5, 3), (6, 3), (6, 4), (6, 5), (7, 5), (8, 5), (8, 6), (8, 7), (8, 8)]\n"
     ]
    },
    {
     "data": {
      "text/plain": [
       "True"
      ]
     },
     "execution_count": 94,
     "metadata": {},
     "output_type": "execute_result"
    }
   ],
   "source": [
    "maze_path_queue(1,1,8,8)"
   ]
  },
  {
   "cell_type": "markdown",
   "metadata": {},
   "source": [
    "# 链表"
   ]
  },
  {
   "cell_type": "markdown",
   "metadata": {},
   "source": [
    "![链表](./Images/链表.png)"
   ]
  },
  {
   "cell_type": "code",
   "execution_count": 100,
   "metadata": {},
   "outputs": [
    {
     "data": {
      "text/plain": [
       "3"
      ]
     },
     "execution_count": 100,
     "metadata": {},
     "output_type": "execute_result"
    }
   ],
   "source": [
    "class Node:\n",
    "    def __init__(self, item):\n",
    "        self.item = item\n",
    "        self.next = None\n",
    "\n",
    "a = Node(1)\n",
    "b = Node(2)\n",
    "c = Node(3)\n",
    "\n",
    "a.next, b.next = b, c\n",
    "\n",
    "a.next.next.item"
   ]
  },
  {
   "cell_type": "markdown",
   "metadata": {},
   "source": [
    "## 创建链表"
   ]
  },
  {
   "cell_type": "markdown",
   "metadata": {},
   "source": [
    "- 头插法\n",
    "- 尾插法"
   ]
  },
  {
   "cell_type": "code",
   "execution_count": null,
   "metadata": {},
   "outputs": [],
   "source": [
    "def create_linklist(li):"
   ]
  }
 ],
 "metadata": {
  "interpreter": {
   "hash": "7b4b4feff2f24a0f0a34464dbe537a36fda679851528fb8735cb41fa49dffb2d"
  },
  "kernelspec": {
   "display_name": "Python 3.8.5 ('base')",
   "language": "python",
   "name": "python3"
  },
  "language_info": {
   "codemirror_mode": {
    "name": "ipython",
    "version": 3
   },
   "file_extension": ".py",
   "mimetype": "text/x-python",
   "name": "python",
   "nbconvert_exporter": "python",
   "pygments_lexer": "ipython3",
   "version": "3.8.5"
  },
  "orig_nbformat": 4
 },
 "nbformat": 4,
 "nbformat_minor": 2
}
