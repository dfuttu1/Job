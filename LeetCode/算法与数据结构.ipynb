{
 "cells": [
  {
   "cell_type": "code",
   "execution_count": 2,
   "metadata": {},
   "outputs": [
    {
     "data": {
      "text/plain": [
       "6"
      ]
     },
     "execution_count": 2,
     "metadata": {},
     "output_type": "execute_result"
    }
   ],
   "source": [
    "L = 3\n",
    "R = 10\n",
    "mid = L + ((R - L) >> 1)\n",
    "mid"
   ]
  },
  {
   "cell_type": "code",
   "execution_count": 6,
   "metadata": {},
   "outputs": [
    {
     "data": {
      "text/plain": [
       "7"
      ]
     },
     "execution_count": 6,
     "metadata": {},
     "output_type": "execute_result"
    }
   ],
   "source": [
    "def process(list, L, R):\n",
    "    if L == R:\n",
    "        return list[L]\n",
    "    mid = L + ((R - L) >> 1)\n",
    "    leftMax = process(list, L, mid) # T(N/2)\n",
    "    rightMax = process(list, mid+1, R) # T(N/2)\n",
    "\n",
    "    return max(leftMax, rightMax) # O(1)\n",
    "list = [3,2,5,6,7,4]\n",
    "process(list, 0, len(list)-1)"
   ]
  },
  {
   "cell_type": "markdown",
   "metadata": {},
   "source": [
    "递归复杂度"
   ]
  },
  {
   "cell_type": "markdown",
   "metadata": {},
   "source": [
    "master公式：$T(N) = a * T(\\frac{N}{b}) + O(N^d)$\n",
    "- $\\log_b a < d \\to O(N^d)$\n",
    "- $\\log_b a > d \\to O(N^{\\log_b a})$\n",
    "- $\\log_b a = d \\to O(N^d * \\log N)$"
   ]
  },
  {
   "cell_type": "markdown",
   "metadata": {},
   "source": [
    "process复杂度：\n",
    "\n",
    "$T(N) = 2 * T(\\frac{N}{2})$\n",
    "\n",
    "$\\log_2 2 > 0 \\to O(N^{\\log_2 2}) = O(N)$"
   ]
  },
  {
   "cell_type": "markdown",
   "metadata": {},
   "source": [
    "# 归并排序"
   ]
  },
  {
   "cell_type": "code",
   "execution_count": 54,
   "metadata": {},
   "outputs": [],
   "source": [
    "def MergeSort(list):\n",
    "    if list is None or len(list) < 2:\n",
    "        return ;\n",
    "    return process(list, 0, len(list) - 1)\n",
    "\n",
    "def process(list, L, R):\n",
    "    if L == R:\n",
    "        return ;\n",
    "    mid = L + ((R - L) >> 1)\n",
    "    process(list, L, mid) # T(N/2)\n",
    "    process(list, mid+1, R) # T(N/2)\n",
    "    merge(list, L, mid, R)\n",
    "    return list\n",
    "\n",
    "def merge(list, L, M, R):\n",
    "    tmp = []\n",
    "    p1, p2 = L, M + 1\n",
    "    while p1 <= M and p2 <= R:\n",
    "        if list[p1] <= list[p2]:\n",
    "            tmp.append(list[p1])\n",
    "            p1 += 1\n",
    "        else:\n",
    "            tmp.append(list[p2])\n",
    "            p2 += 1\n",
    "\n",
    "    while p1 <= M:           # p1 没越界\n",
    "        tmp.append(list[p1])\n",
    "        p1 += 1\n",
    "    while p2 <= R:           # p2 没越界\n",
    "        tmp.append(list[p2])\n",
    "        p2 += 1\n",
    "\n",
    "    list[L:R+1] = tmp"
   ]
  },
  {
   "cell_type": "code",
   "execution_count": 55,
   "metadata": {},
   "outputs": [
    {
     "data": {
      "text/plain": [
       "[1, 1, 2, 3, 3, 4, 6, 7, 10]"
      ]
     },
     "execution_count": 55,
     "metadata": {},
     "output_type": "execute_result"
    }
   ],
   "source": [
    "list = [3, 1, 3, 2, 4, 6, 7, 10, 1]\n",
    "MergeSort(list)"
   ]
  },
  {
   "cell_type": "markdown",
   "metadata": {},
   "source": [
    "$T(N) = 2T(\\frac{N}{2}) + O(N)$\n",
    "\n",
    "$\\log_2 2 = 1 \\to O(N \\log N)$\n",
    "\n",
    "时间复杂度$O(N \\log N)$，空间复杂度$O(N)$"
   ]
  },
  {
   "cell_type": "markdown",
   "metadata": {},
   "source": [
    "## 小和问题\n",
    "\n",
    "![小和问题](./Images/%E5%B0%8F%E5%92%8C%E9%97%AE%E9%A2%98.png)"
   ]
  },
  {
   "cell_type": "code",
   "execution_count": 43,
   "metadata": {},
   "outputs": [],
   "source": [
    "def SmallNum(list):\n",
    "    if list is None or len(list) < 2:\n",
    "        return ;\n",
    "    return process(list, 0, len(list) - 1)\n",
    "\n",
    "def process(list, l, r):\n",
    "    if l == r:\n",
    "        return 0;\n",
    "    mid = l + ((r - l) >> 1)\n",
    "    return process(list, l, mid) + process(list, mid+1, r) + merge(list, l, mid, r)\n",
    "\n",
    "def merge(list, l, m, r):\n",
    "    tmp = []\n",
    "    p1, p2 = l, m + 1\n",
    "    res = 0\n",
    "    while p1 <= m and p2 <= r:\n",
    "        if list[p1] < list[p2]:\n",
    "            res += (r - p2 + 1) * list[p1]\n",
    "            tmp.append(list[p1])\n",
    "            p1 += 1\n",
    "        else:\n",
    "            tmp.append(list[p2])\n",
    "            p2 += 1\n",
    "    \n",
    "    while p1 <= m:           # p1 没越界\n",
    "        tmp.append(list[p1])\n",
    "        p1 += 1\n",
    "    while p2 <= r:           # p2 没越界\n",
    "        tmp.append(list[p2])\n",
    "        p2 += 1\n",
    "    \n",
    "    list[l:r+1] = tmp\n",
    "    return res"
   ]
  },
  {
   "cell_type": "code",
   "execution_count": 44,
   "metadata": {},
   "outputs": [
    {
     "data": {
      "text/plain": [
       "16"
      ]
     },
     "execution_count": 44,
     "metadata": {},
     "output_type": "execute_result"
    }
   ],
   "source": [
    "list = [1, 3, 4, 2, 5]\n",
    "SmallNum(list)"
   ]
  },
  {
   "cell_type": "markdown",
   "metadata": {},
   "source": [
    "## 逆序对问题"
   ]
  },
  {
   "cell_type": "markdown",
   "metadata": {},
   "source": [
    "![逆序对问题](./Images/逆序对问题.png)"
   ]
  },
  {
   "cell_type": "markdown",
   "metadata": {},
   "source": [
    "# 快排"
   ]
  },
  {
   "cell_type": "code",
   "execution_count": 303,
   "metadata": {},
   "outputs": [],
   "source": [
    "import random\n",
    "def quickSort(list):\n",
    "    if list is None or len(list) < 2:\n",
    "        return ;\n",
    "    return process(list, 0, len(list) - 1)\n",
    "def process(list, L, R):\n",
    "    if L >= R:\n",
    "        return ;\n",
    "    sec = random.randint(L, R)\n",
    "    list[sec], list[R] = list[R], list[sec]\n",
    "    p = partition(list, L, R)\n",
    "    process(list, L, p[0]) # < 区\n",
    "    process(list, p[1], R) # > 区\n",
    "    return list\n",
    "def partition(list, L, R):\n",
    "    less, more = L - 1, R # <右区边界，>区左边界\n",
    "    while L < more:\n",
    "        if list[L] < list[R]:\n",
    "            less += 1\n",
    "            list[L], list[less] = list[less], list[L]\n",
    "            L += 1\n",
    "        elif list[L] > list[R]:\n",
    "            more -= 1\n",
    "            list[L], list[more] = list[more], list[L]\n",
    "        else:\n",
    "            L += 1\n",
    "    list[R], list[more] = list[more], list[R]\n",
    "    return less, more+1"
   ]
  },
  {
   "cell_type": "code",
   "execution_count": 268,
   "metadata": {},
   "outputs": [
    {
     "data": {
      "text/plain": [
       "0"
      ]
     },
     "execution_count": 268,
     "metadata": {},
     "output_type": "execute_result"
    }
   ],
   "source": [
    "random.randint(0, 5)"
   ]
  },
  {
   "cell_type": "code",
   "execution_count": 304,
   "metadata": {},
   "outputs": [
    {
     "data": {
      "text/plain": [
       "[0, 1, 1, 2, 3, 3, 4, 5, 5]"
      ]
     },
     "execution_count": 304,
     "metadata": {},
     "output_type": "execute_result"
    }
   ],
   "source": [
    "list = [1, 3, 4, 2, 5, 1, 3, 5, 0]\n",
    "quickSort(list)"
   ]
  },
  {
   "cell_type": "markdown",
   "metadata": {},
   "source": [
    "# 堆排序"
   ]
  },
  {
   "cell_type": "code",
   "execution_count": 394,
   "metadata": {},
   "outputs": [],
   "source": [
    "def heapSort(list):\n",
    "    if list is None or len(list) < 2:\n",
    "        return ;\n",
    "\n",
    "    for i in range(len(list)): # 向上维护大根堆\n",
    "        heapInsert(list, i)\n",
    "    \n",
    "    heapSize = len(list) - 1\n",
    "    while heapSize > 0:\n",
    "        list[0], list[heapSize] = list[heapSize], list[0]\n",
    "        heapSize -= 1\n",
    "        heapify(list, 0, heapSize) # 向下维护大根堆\n",
    "    return list\n",
    "\n",
    "def heapInsert(list, index):\n",
    "    while index > 0 and list[index] > list[(index-1) // 2]:\n",
    "        list[index], list[(index-1) // 2] = list[(index-1) // 2], list[index]\n",
    "        index = (index - 1) // 2\n",
    "    return list\n",
    "\n",
    "def heapify(list, index, heapSize):\n",
    "    left = index * 2 + 1 # 左孩子下标\n",
    "    while left < heapSize:\n",
    "        largest = left\n",
    "        if left + 1 < heapSize and list[left + 1] > list[left]:\n",
    "            largest = left + 1\n",
    "        if list[largest] <= list[index]:\n",
    "            largest = index\n",
    "        if largest == index:\n",
    "            return list\n",
    "        list[largest], list[index] = list[index], list[largest]\n",
    "        index = largest\n",
    "        left = index * 2 + 1\n",
    "    return list"
   ]
  },
  {
   "cell_type": "code",
   "execution_count": 406,
   "metadata": {},
   "outputs": [],
   "source": [
    "def heapify(list, index, heapSize):\n",
    "    left = index * 2 + 1 # 左孩子下标\n",
    "    largest = index\n",
    "    if left < heapSize and list[left] > list[largest]:\n",
    "        largest = left\n",
    "    if left + 1 < heapSize and list[left + 1] > list[largest]:\n",
    "        largest = left + 1\n",
    "    if largest == index:\n",
    "        return list\n",
    "    list[largest], list[index] = list[index], list[largest]\n",
    "    heapify(list, largest, heapSize)\n",
    "    return list\n",
    "\n",
    "def heapSort(list):\n",
    "    if list is None or len(list) < 2:\n",
    "        return ;\n",
    "\n",
    "    n = len(list)\n",
    "    i = n // 2 - 1\n",
    "    while i >= 0:\n",
    "        heapify(list, i, n-1)\n",
    "        i -= 1\n",
    "    # 排序\n",
    "    low = n - 1\n",
    "    while low > 0:\n",
    "        list[low], list[0] = list[0], list[low]\n",
    "        low -= 1\n",
    "        heapify(list, 0, low)\n",
    "    return list"
   ]
  },
  {
   "cell_type": "code",
   "execution_count": 407,
   "metadata": {},
   "outputs": [
    {
     "data": {
      "text/plain": [
       "[0, 1, 1, 2, 3, 3, 4, 5, 5]"
      ]
     },
     "execution_count": 407,
     "metadata": {},
     "output_type": "execute_result"
    }
   ],
   "source": [
    "list = [1, 3, 4, 2, 5, 1, 3, 5, 0]\n",
    "heapSort(list)"
   ]
  },
  {
   "cell_type": "code",
   "execution_count": 409,
   "metadata": {},
   "outputs": [
    {
     "data": {
      "text/plain": [
       "[None, None]"
      ]
     },
     "execution_count": 409,
     "metadata": {},
     "output_type": "execute_result"
    }
   ],
   "source": [
    "[None] * 2"
   ]
  }
 ],
 "metadata": {
  "interpreter": {
   "hash": "7b4b4feff2f24a0f0a34464dbe537a36fda679851528fb8735cb41fa49dffb2d"
  },
  "kernelspec": {
   "display_name": "Python 3.8.5 ('base')",
   "language": "python",
   "name": "python3"
  },
  "language_info": {
   "codemirror_mode": {
    "name": "ipython",
    "version": 3
   },
   "file_extension": ".py",
   "mimetype": "text/x-python",
   "name": "python",
   "nbconvert_exporter": "python",
   "pygments_lexer": "ipython3",
   "version": "3.8.5"
  },
  "orig_nbformat": 4
 },
 "nbformat": 4,
 "nbformat_minor": 2
}
