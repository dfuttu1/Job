{
 "cells": [
  {
   "cell_type": "markdown",
   "metadata": {},
   "source": [
    "# 0324 携程"
   ]
  },
  {
   "cell_type": "markdown",
   "metadata": {},
   "source": [
    "## 第一题 游游的7的倍数"
   ]
  },
  {
   "cell_type": "markdown",
   "metadata": {},
   "source": [
    "![游游的7的倍数](./Images/0324-1.png)"
   ]
  },
  {
   "cell_type": "markdown",
   "metadata": {},
   "source": [
    "思路：\n",
    "\n",
    "33 $\\to$ 330\n",
    "\n",
    "$(330 + ?) \\% 7 == 0$\n",
    "\n",
    "$\\iff$\n",
    "\n",
    "$(340 - ?) \\% 7 == 0$ (0 $<$ ? $\\leq$ 10)\n",
    "\n",
    "330, 331, 332, 333, 334, 335, 336, 337, 338, 339, 340\n",
    "\n",
    "340 % 7 = 4"
   ]
  },
  {
   "cell_type": "code",
   "execution_count": 1,
   "metadata": {},
   "outputs": [],
   "source": [
    "def solution(x):\n",
    "    return 10*(x+1) - 10*(x+1) % 7"
   ]
  },
  {
   "cell_type": "code",
   "execution_count": 2,
   "metadata": {},
   "outputs": [
    {
     "data": {
      "text/plain": [
       "350"
      ]
     },
     "execution_count": 2,
     "metadata": {},
     "output_type": "execute_result"
    }
   ],
   "source": [
    "solution(34)"
   ]
  },
  {
   "cell_type": "markdown",
   "metadata": {},
   "source": [
    "34 $\\to$ 340\n",
    "\n",
    "350 $\\%$ 7 = 0\n",
    "\n",
    "$\\Longrightarrow$\n",
    "\n",
    "ans = 350 - 7 = 343"
   ]
  },
  {
   "cell_type": "code",
   "execution_count": 3,
   "metadata": {},
   "outputs": [],
   "source": [
    "def solution(x):\n",
    "    if 10*(x+1) % 7 == 0:\n",
    "        return 10*(x+1) - 7\n",
    "    return 10*(x+1) - 10*(x+1) % 7"
   ]
  },
  {
   "cell_type": "code",
   "execution_count": 4,
   "metadata": {},
   "outputs": [
    {
     "data": {
      "text/plain": [
       "343"
      ]
     },
     "execution_count": 4,
     "metadata": {},
     "output_type": "execute_result"
    }
   ],
   "source": [
    "solution(34)"
   ]
  },
  {
   "cell_type": "markdown",
   "metadata": {},
   "source": [
    "## 第二题 游游的01串"
   ]
  },
  {
   "cell_type": "markdown",
   "metadata": {},
   "source": [
    "![游游的01串](./Images/0324-2.png)"
   ]
  },
  {
   "cell_type": "markdown",
   "metadata": {},
   "source": [
    "思路：101010或者010101，对比\n"
   ]
  },
  {
   "cell_type": "code",
   "execution_count": 30,
   "metadata": {},
   "outputs": [],
   "source": [
    "def solution(x):\n",
    "    n = len(x)\n",
    "    if n % 2 == 0:\n",
    "        tmp1 = ([0] + [1]) * (n // 2)\n",
    "        tmp2 = ([1] + [0]) * (n // 2)\n",
    "    else:\n",
    "        tmp1 = ([0] + [1]) * (n // 2) + [0]\n",
    "        tmp2 = ([1] + [0]) * (n // 2) + [1]\n",
    "    ans1, ans2 = 0, 0\n",
    "    for i in range(n):\n",
    "        if x[i] != tmp1[i]:\n",
    "            ans1 += i + 1\n",
    "        if x[i] != tmp2[i]:\n",
    "            ans2 += i + 1\n",
    "    # if ans1 <= ans2:\n",
    "    #     return ans1\n",
    "    # return ans2\n",
    "    return ans1 if ans1 <= ans2 else ans2"
   ]
  },
  {
   "cell_type": "code",
   "execution_count": 35,
   "metadata": {},
   "outputs": [
    {
     "data": {
      "text/plain": [
       "7"
      ]
     },
     "execution_count": 35,
     "metadata": {},
     "output_type": "execute_result"
    }
   ],
   "source": [
    "solution([0,1,1,1,1,0])"
   ]
  }
 ],
 "metadata": {
  "interpreter": {
   "hash": "7b4b4feff2f24a0f0a34464dbe537a36fda679851528fb8735cb41fa49dffb2d"
  },
  "kernelspec": {
   "display_name": "Python 3.8.5 ('base')",
   "language": "python",
   "name": "python3"
  },
  "language_info": {
   "codemirror_mode": {
    "name": "ipython",
    "version": 3
   },
   "file_extension": ".py",
   "mimetype": "text/x-python",
   "name": "python",
   "nbconvert_exporter": "python",
   "pygments_lexer": "ipython3",
   "version": "3.8.5"
  },
  "orig_nbformat": 4
 },
 "nbformat": 4,
 "nbformat_minor": 2
}
