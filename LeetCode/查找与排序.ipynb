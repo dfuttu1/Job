{
 "cells": [
  {
   "cell_type": "markdown",
   "metadata": {},
   "source": [
    "# Notes"
   ]
  },
  {
   "cell_type": "markdown",
   "metadata": {},
   "source": [
    "## 汉诺塔问题\n",
    "\n",
    "Q: 三根柱子abc，从下往上由大到小摞着64个圆盘，每次只能移动一个圆盘并且大圆盘不能再小圆  \n",
    "盘上，最后将这一罗圆盘移动到另外一根柱子上  \n",
    "\n",
    "A: 考虑三个圆盘的情况：  \n",
    "- 第一步把最上面的两个圆盘经过b移动到c，  \n",
    "- 第二步把底部的圆盘移动到柱子b上，  \n",
    "- 第三步通过柱子a把c上的顶部两个圆盘移动到b  \n",
    "\n",
    "假设有n个圆盘，则可以把顶部的n-1个圆盘看作一个整体，递归的使用这种移动方式来实现全部圆  \n",
    "盘的移动"
   ]
  },
  {
   "cell_type": "code",
   "execution_count": 4,
   "metadata": {},
   "outputs": [],
   "source": [
    "def hanoi(n, a, b, c):\n",
    "    if n > 0:\n",
    "        hanoi(n-1, a, c, b)\n",
    "        print(\"moving from %s to %s\" % (a, c))\n",
    "        hanoi(n-1, b, a, c)"
   ]
  },
  {
   "cell_type": "code",
   "execution_count": 5,
   "metadata": {},
   "outputs": [
    {
     "name": "stdout",
     "output_type": "stream",
     "text": [
      "moving from a to c\n",
      "moving from a to b\n",
      "moving from c to b\n",
      "moving from a to c\n",
      "moving from b to a\n",
      "moving from b to c\n",
      "moving from a to c\n"
     ]
    }
   ],
   "source": [
    "hanoi(3, \"a\", \"b\", \"c\")"
   ]
  },
  {
   "cell_type": "markdown",
   "metadata": {},
   "source": [
    "## 列表查找\n",
    "查找：在一些数据元素中通过一定的方法找出与给定关键字相同的数据元素的过程  \n",
    "列表查找(线性表查找):从列表中查找指定元素  \n",
    "- 输入:列表、待查找元素  \n",
    "- 输出:元素下标(未找到返回-1或None)\n",
    "\n",
    "内置列表查找函数：index()---这是线性查找，因为人为指定的列表可能是无序的，而对一个列  \n",
    "表排序的时间复杂度>O(n)"
   ]
  },
  {
   "cell_type": "markdown",
   "metadata": {},
   "source": [
    "### 顺序查找(Linear Serach)\n",
    "从列表第一个元素开始，顺序进行搜索，时间复杂度的为O(n)"
   ]
  },
  {
   "cell_type": "code",
   "execution_count": 10,
   "metadata": {},
   "outputs": [],
   "source": [
    "def linear_search(list, val):\n",
    "    for i, v in enumerate(list):\n",
    "        if v == val:\n",
    "            return i\n",
    "    return None"
   ]
  },
  {
   "cell_type": "code",
   "execution_count": 11,
   "metadata": {},
   "outputs": [
    {
     "data": {
      "text/plain": [
       "2"
      ]
     },
     "execution_count": 11,
     "metadata": {},
     "output_type": "execute_result"
    }
   ],
   "source": [
    "linear_search([1,2,3,4], 3)"
   ]
  },
  {
   "cell_type": "markdown",
   "metadata": {},
   "source": [
    "### 二分查找(Binary Search)\n",
    "针对有序列表的查找方法 从有序列表的初始候选区li[0:n]开始，通过对查找的值和候选区域中间  \n",
    "值进行比较，可以使候选区域减半，维护候选区是关键\n",
    "\n",
    "我们用left和right来标记候选区域的头和尾的index，中间值为li[(left+right/)2]，如果比查找值  \n",
    "小，则维护右边区域为候选区，即让left <- (left+right/)2 +1，如果比查找值大，则维护左边区域  \n",
    "为候选区，即让right <- (left+right/)2 -1\n",
    "\n",
    "重复上面步骤 值得某个候选区的中间值等于待查找值结束，并返回这个中间值的索引  \n",
    "或者候选区域为空集(left>right)时结束，此时说明列表中没有待查找值"
   ]
  },
  {
   "cell_type": "code",
   "execution_count": 12,
   "metadata": {},
   "outputs": [],
   "source": [
    "def binary_search(list, val):\n",
    "    left = 0\n",
    "    right = len(list) - 1\n",
    "    while left <= right:\n",
    "        mid = (left + right) // 2\n",
    "        if list[mid] == val:\n",
    "            return mid\n",
    "        elif list[mid] > val:\n",
    "            right = mid - 1\n",
    "        else:\n",
    "            left = mid + 1\n",
    "    return None"
   ]
  },
  {
   "cell_type": "code",
   "execution_count": 14,
   "metadata": {},
   "outputs": [
    {
     "data": {
      "text/plain": [
       "2"
      ]
     },
     "execution_count": 14,
     "metadata": {},
     "output_type": "execute_result"
    }
   ],
   "source": [
    "binary_search([1,2,3,5], 3)"
   ]
  },
  {
   "cell_type": "markdown",
   "metadata": {},
   "source": [
    "二分查找的复杂度为O(logn)(2为底)。因为当问题的规模为n时，每次循环都会减半问题的规模，  \n",
    "所以只需要logn次就会把问题规模减到0"
   ]
  },
  {
   "cell_type": "markdown",
   "metadata": {},
   "source": [
    "## 列表排序\n",
    "排序：将一组无序的记录序列调整为有序的记录序列  \n",
    "列表排序: 将无序列表变成有序列表  \n",
    "- 输入: 列表\n",
    "- 输出: 有序列表\n",
    "\n",
    "升序与降序  \n",
    "内置排序函数 sort()\n",
    "\n",
    "常见排序方法:  \n",
    "冒泡排序，选择排序，插入排序  \n",
    "快速排序，堆排序，归并排序  \n",
    "希尔排序，计数排序，基数排序"
   ]
  },
  {
   "cell_type": "markdown",
   "metadata": {},
   "source": [
    "### 冒泡排序(Bubble Sort)\n",
    "- 列表每两个相邻的数，如果前面的数比后面的数大，则交换这两个数\n",
    "- 冒泡排序的一趟 无序区会减少一个数，有序区会增加一个数\n",
    "\n",
    "从第一个数开始，跟后一个位置的数比较，若更大则交换位置，值到后面位置的数比他更大，然  \n",
    "后再从这个数开始跟他后面的位置的数比较(大的数往上冒，直到被一个更大的数盖住)。这一趟  \n",
    "完成之后，最后一个位置的数一定是最大的(即无序区较少一个数，有序区增加一个数)  \n",
    "第二趟就只需要比较到倒数第二个位置的数即可\n",
    "\n",
    "假设列表长度为n，第0趟结束后有序数区域有1个，而无序数区域有n-1个;第n-2趟结束后有序数  \n",
    "区域有n-1个无序数区域有一个就是第一个位置的数，而它本身就是最小的数，不需要再被冒泡  \n",
    "了，所以对一个长度为n的列表排序总共需要进行n-1趟冒泡  "
   ]
  },
  {
   "cell_type": "code",
   "execution_count": 2,
   "metadata": {},
   "outputs": [],
   "source": [
    "def bubble_sort(list):\n",
    "    for i in range(len(list) - 1): # n-1趟\n",
    "        for j in range(len(list) - i - 1): # 指针在无序区移动\n",
    "            if list[j] > list[j+1]:\n",
    "                list[j], list[j+1] = list[j+1], list[j]\n",
    "    return list"
   ]
  },
  {
   "cell_type": "code",
   "execution_count": 15,
   "metadata": {},
   "outputs": [
    {
     "name": "stdout",
     "output_type": "stream",
     "text": [
      "[54, 84, 75, 46, 50, 13, 50, 92, 2, 83, 80, 45, 28, 74, 63, 15, 68, 89, 96, 59, 37, 15, 20, 67, 52, 24, 22, 50, 2, 32, 51, 12, 7, 47, 29, 10, 85, 44, 72, 21, 27, 51, 76, 80, 28, 26, 67, 5, 49, 68, 5, 64, 14, 10, 90, 13, 66, 42, 99, 98, 22, 77, 34, 1, 97, 5, 33, 67, 79, 69, 7, 90, 97, 49, 50, 16, 32, 36, 11, 34, 48, 76, 23, 41, 77, 87, 13, 78, 72, 7, 63, 63, 72, 96, 48, 84, 98, 36, 24, 86]\n",
      "[1, 2, 2, 5, 5, 5, 7, 7, 7, 10, 10, 11, 12, 13, 13, 13, 14, 15, 15, 16, 20, 21, 22, 22, 23, 24, 24, 26, 27, 28, 28, 29, 32, 32, 33, 34, 34, 36, 36, 37, 41, 42, 44, 45, 46, 47, 48, 48, 49, 49, 50, 50, 50, 50, 51, 51, 52, 54, 59, 63, 63, 63, 64, 66, 67, 67, 67, 68, 68, 69, 72, 72, 72, 74, 75, 76, 76, 77, 77, 78, 79, 80, 80, 83, 84, 84, 85, 86, 87, 89, 90, 90, 92, 96, 96, 97, 97, 98, 98, 99]\n"
     ]
    }
   ],
   "source": [
    "import random \n",
    "li = [random.randint(0,100) for i in range(100)]\n",
    "print(li)\n",
    "bubble_sort(li)\n",
    "print(li)"
   ]
  },
  {
   "cell_type": "markdown",
   "metadata": {},
   "source": [
    "冒泡排序的时间复杂度为$O(n^2)$  \n",
    "冒泡排序的改进: 如果一趟冒泡没有发生交换，则认为这个列表的排序已经完成"
   ]
  },
  {
   "cell_type": "code",
   "execution_count": 18,
   "metadata": {},
   "outputs": [],
   "source": [
    "def bubble_sort(list):\n",
    "    for i in range(len(list) - 1): # n-1趟\n",
    "        exchange = False\n",
    "        for j in range(len(list) - i - 1): # 指针在无序区移动\n",
    "            if list[j] > list[j+1]:\n",
    "                list[j], list[j+1] = list[j+1], list[j]\n",
    "                exchange = True\n",
    "        print(list)\n",
    "        if not exchange:\n",
    "            return list"
   ]
  },
  {
   "cell_type": "code",
   "execution_count": 19,
   "metadata": {},
   "outputs": [
    {
     "name": "stdout",
     "output_type": "stream",
     "text": [
      "[9, 8, 1, 7, 2, 6, 3, 4]\n",
      "[8, 1, 7, 2, 6, 3, 4, 9]\n",
      "[1, 7, 2, 6, 3, 4, 8, 9]\n",
      "[1, 2, 6, 3, 4, 7, 8, 9]\n",
      "[1, 2, 3, 4, 6, 7, 8, 9]\n",
      "[1, 2, 3, 4, 6, 7, 8, 9]\n"
     ]
    },
    {
     "data": {
      "text/plain": [
       "[1, 2, 3, 4, 6, 7, 8, 9]"
      ]
     },
     "execution_count": 19,
     "metadata": {},
     "output_type": "execute_result"
    }
   ],
   "source": [
    "li = [9,8,1,7,2,6,3,4]\n",
    "print(li)\n",
    "bubble_sort(li)"
   ]
  },
  {
   "cell_type": "markdown",
   "metadata": {},
   "source": [
    "### 选择排序"
   ]
  },
  {
   "cell_type": "code",
   "execution_count": 5,
   "metadata": {},
   "outputs": [],
   "source": [
    "def select_sort_simple(list):\n",
    "    sort_list = []\n",
    "    n = len(list)\n",
    "    for i in range(n-1):\n",
    "        t = 0\n",
    "        min_ = list[t]\n",
    "        for j in range(1, len(list)):\n",
    "            if min_ >= list[j]:\n",
    "                min_ = list[j]\n",
    "                t = j\n",
    "        sort_list.append(min_)\n",
    "        list.pop(t)\n",
    "    sort_list.append(list[0])\n",
    "\n",
    "    return sort_list"
   ]
  },
  {
   "cell_type": "code",
   "execution_count": 7,
   "metadata": {},
   "outputs": [],
   "source": [
    "def select_sort_simple(list):\n",
    "    sort_list = []\n",
    "    n = len(list)\n",
    "    for i in range(n):\n",
    "        min_ = min(list)\n",
    "        sort_list.append(min_)\n",
    "        list.remove(min_)\n",
    "\n",
    "    return sort_list"
   ]
  },
  {
   "cell_type": "code",
   "execution_count": 8,
   "metadata": {},
   "outputs": [
    {
     "data": {
      "text/plain": [
       "[1, 2, 3, 4, 5, 7]"
      ]
     },
     "execution_count": 8,
     "metadata": {},
     "output_type": "execute_result"
    }
   ],
   "source": [
    "list = [3,1,4,2,7,5]\n",
    "select_sort_simple(list)"
   ]
  },
  {
   "cell_type": "markdown",
   "metadata": {},
   "source": [
    "缺陷：\n",
    "- 重新申请一块内存来存放sort_li\n",
    "- 最小值运算是$O(n)$的\n",
    "- 删除运算时$O(n)$的，删掉某个元素后还要把后面的元素往前面挪\n",
    "- 这个算法的时间复杂度为$O(n^2)$\n",
    "- 要考虑类似冒泡排序一样的原地排序\n",
    "\n",
    "确定一个列表的无序区和有序区，第零趟时无序区为整个列表[0,n-1]，  \n",
    "经过无序区中一次选择最小的元素，把无序区第一个位置的元素与这个最小的元素  \n",
    "交换位置，那么无序区的个数会减一[1:n-1],有序区个数会增加一[0]，第i次选择时，  \n",
    "无序区的个数有n-i个，范围是[i,n-1], 把从无序区选择出来的最小元素  \n",
    "与无序区的第一个元素交换,经过n-1次后无序区为列表的最后一个元素，  \n",
    "而他本身就是最大的数\n",
    "\n",
    "**算法关键点** 有序区和无序区，无序区最小数的位置"
   ]
  },
  {
   "cell_type": "code",
   "execution_count": 48,
   "metadata": {},
   "outputs": [],
   "source": [
    "def select_sort(list):\n",
    "    for i in range(len(list)): # 第i趟\n",
    "        min_loc = i\n",
    "        for j in range(i, len(list)): # 无序区位置[i:n]\n",
    "            if list[min_loc] >= list[j]:\n",
    "                min_loc = j\n",
    "        list[i], list[min_loc] = list[min_loc], list[i]\n",
    "    return list"
   ]
  },
  {
   "cell_type": "code",
   "execution_count": 49,
   "metadata": {},
   "outputs": [
    {
     "data": {
      "text/plain": [
       "[1, 2, 3, 4, 5, 7]"
      ]
     },
     "execution_count": 49,
     "metadata": {},
     "output_type": "execute_result"
    }
   ],
   "source": [
    "list = [3,1,4,2,7,5]\n",
    "select_sort(list)"
   ]
  },
  {
   "cell_type": "markdown",
   "metadata": {},
   "source": [
    "选择排序的时间复杂度为$O(n)$???"
   ]
  },
  {
   "cell_type": "markdown",
   "metadata": {},
   "source": [
    "### 插入排序\n",
    "初始时有序区只有一个数(第一个位置的数)，每次让无序区的第一个位置的数  \n",
    "插入到有序区的正确位置"
   ]
  },
  {
   "cell_type": "code",
   "execution_count": 60,
   "metadata": {},
   "outputs": [],
   "source": [
    "def insert_sort(list):\n",
    "    for i in range(1, len(list)): # 无序区的范围从[1,n]到[n-1:n-1]\n",
    "        for j in range(i):\n",
    "            if list[i-j] < list[i-j-1]:\n",
    "                list[i-j], list[i-j-1] = list[i-j-1], list[i-j]\n",
    "        # print(list)\n",
    "    return list"
   ]
  },
  {
   "cell_type": "code",
   "execution_count": 61,
   "metadata": {},
   "outputs": [
    {
     "data": {
      "text/plain": [
       "[1, 2, 3, 4, 5, 7]"
      ]
     },
     "execution_count": 61,
     "metadata": {},
     "output_type": "execute_result"
    }
   ],
   "source": [
    "list = [3,1,4,2,7,5]\n",
    "insert_sort(list)"
   ]
  },
  {
   "cell_type": "code",
   "execution_count": 92,
   "metadata": {},
   "outputs": [],
   "source": [
    "def insert_sort(list):\n",
    "    n = len(list)\n",
    "    for i in range(1, n):\n",
    "        j = i - 1 # 有序区最后一个数的index\n",
    "        tmp = list[i] # 无序区第一个数\n",
    "        while j >= 0 and list[j] > tmp:\n",
    "            list[j+1], list[j] = list[j], list[j+1]\n",
    "            j -= 1\n",
    "    return list"
   ]
  },
  {
   "cell_type": "code",
   "execution_count": 93,
   "metadata": {},
   "outputs": [
    {
     "data": {
      "text/plain": [
       "[1, 2, 3, 4, 5, 7]"
      ]
     },
     "execution_count": 93,
     "metadata": {},
     "output_type": "execute_result"
    }
   ],
   "source": [
    "list = [3,1,4,2,7,5]\n",
    "insert_sort(list)"
   ]
  },
  {
   "cell_type": "code",
   "execution_count": 20,
   "metadata": {},
   "outputs": [
    {
     "name": "stdout",
     "output_type": "stream",
     "text": [
      "123\n",
      "321\n"
     ]
    }
   ],
   "source": [
    "a = '123'\n",
    "print(a)\n",
    "rev_a = a[::-1]\n",
    "print(rev_a)"
   ]
  },
  {
   "cell_type": "markdown",
   "metadata": {},
   "source": [
    "### 希尔排序"
   ]
  },
  {
   "cell_type": "markdown",
   "metadata": {},
   "source": [
    "![Shell Sort](./Images/希尔排序.png)"
   ]
  },
  {
   "cell_type": "code",
   "execution_count": 86,
   "metadata": {},
   "outputs": [],
   "source": [
    "def shell_sort(list):\n",
    "    n = len(list)\n",
    "    # 初始增量n//2\n",
    "    inc = n // 2\n",
    "    while inc >= 1:\n",
    "        # 每一趟使用插入排序\n",
    "        for i in range(inc, n):\n",
    "            tmp = list[i]\n",
    "            # 有序区最后一个元素的index\n",
    "            j = i - inc\n",
    "            while j >= 0 and list[j] > tmp:\n",
    "                list[j], list[j+inc] = list[j+inc], list[j]\n",
    "                j -= inc\n",
    "        inc //= 2\n",
    "    return list"
   ]
  },
  {
   "cell_type": "code",
   "execution_count": 87,
   "metadata": {},
   "outputs": [
    {
     "data": {
      "text/plain": [
       "[1, 2, 3, 4, 5, 6, 7, 8, 9, 10, 12, 15]"
      ]
     },
     "execution_count": 87,
     "metadata": {},
     "output_type": "execute_result"
    }
   ],
   "source": [
    "li = [15, 5, 2, 7, 12, 6, 1, 4, 3, 9, 8, 10]\n",
    "shell_sort(li)"
   ]
  },
  {
   "cell_type": "markdown",
   "metadata": {},
   "source": [
    "### 计数排序\n",
    "通过计数而不是比较来进行排序，适用于范围较小的整数序列"
   ]
  },
  {
   "cell_type": "markdown",
   "metadata": {},
   "source": [
    "![计数排序](./Images/计数排序.png)"
   ]
  },
  {
   "cell_type": "code",
   "execution_count": 101,
   "metadata": {},
   "outputs": [],
   "source": [
    "def counting_sort(list):\n",
    "    n = len(list)\n",
    "    if n < 2:\n",
    "        return list\n",
    "    # 寻找最大值\n",
    "    max = list[0]\n",
    "    for i in range(1, n):\n",
    "        if list[i] > max:\n",
    "            max = list[i]\n",
    "    \n",
    "    # 分配一个长度为max+1的数组作为计数数组\n",
    "    count = [0] * (max + 1)\n",
    "\n",
    "    # 计数\n",
    "    for i in range(n):\n",
    "        count[list[i]] += 1\n",
    "    \n",
    "    # 累计\n",
    "    for i in range(1, max+1):\n",
    "        count[i] += count[i-1]\n",
    "    \n",
    "    output = [None] * n\n",
    "    for i in range(n):\n",
    "        output[count[list[i]] - 1] = list[i]\n",
    "        count[list[i]] -= 1\n",
    "\n",
    "    return output"
   ]
  },
  {
   "cell_type": "code",
   "execution_count": 102,
   "metadata": {},
   "outputs": [
    {
     "data": {
      "text/plain": [
       "[1, 2, 2, 3, 4, 4, 5, 7, 8]"
      ]
     },
     "execution_count": 102,
     "metadata": {},
     "output_type": "execute_result"
    }
   ],
   "source": [
    "li = [2,4,1,2,5,3,4,8,7]\n",
    "counting_sort(li)"
   ]
  },
  {
   "cell_type": "markdown",
   "metadata": {},
   "source": [
    "### 快速排序"
   ]
  },
  {
   "cell_type": "code",
   "execution_count": 28,
   "metadata": {},
   "outputs": [],
   "source": [
    "def partition(list, left, right):\n",
    "    tmp = list[left]\n",
    "    while left < right: # 交替移动left和right指针直到其重合\n",
    "        while left < right and list[right] >= tmp: # 移动右指针，找比tmp小的数\n",
    "            right -= 1\n",
    "        list[left] = list[right]\n",
    "\n",
    "        while left < right and list[left] <= tmp: # 移动左指针，找比tmp大的数\n",
    "            left += 1\n",
    "        list[right] = list[left]\n",
    "\n",
    "    list[left] = tmp # 将tmp放在left和right重合的地方\n",
    "    return left\n",
    "\n",
    "def quick_sort(list, left, right):\n",
    "    if left >= right: # 两个以上元素才需要递归\n",
    "        return ;\n",
    "    mid = partition(list, left, right)\n",
    "    quick_sort(list, left, mid-1)\n",
    "    quick_sort(list, mid+1, right)\n",
    "    return list"
   ]
  },
  {
   "cell_type": "code",
   "execution_count": 29,
   "metadata": {},
   "outputs": [
    {
     "data": {
      "text/plain": [
       "[1, 2, 3, 4, 5, 7, 18]"
      ]
     },
     "execution_count": 29,
     "metadata": {},
     "output_type": "execute_result"
    }
   ],
   "source": [
    "li = [3, 1, 5, 4, 18,7, 2] \n",
    "quick_sort(li, 0, len(li)-1)"
   ]
  },
  {
   "cell_type": "markdown",
   "metadata": {},
   "source": [
    "### 归并排序\n",
    "合并一个两部分分别有序的列表为一整个有序列表"
   ]
  },
  {
   "cell_type": "code",
   "execution_count": 46,
   "metadata": {},
   "outputs": [],
   "source": [
    "def merge(list, left, mid, right):\n",
    "    tmp = []\n",
    "    l_pos, r_pos = left, mid+1 # 左半区[left:mid], 右半区[mid+1:right]\n",
    "\n",
    "    # 合并\n",
    "    while l_pos <= mid and r_pos <= right:\n",
    "        if list[l_pos] <= list[r_pos]:\n",
    "            tmp.append(list[l_pos])\n",
    "            l_pos += 1\n",
    "        else:\n",
    "            tmp.append(list[r_pos])\n",
    "            r_pos += 1\n",
    "    # 合并左半区剩余元素\n",
    "    while l_pos <= mid:\n",
    "        tmp.append(list[l_pos])\n",
    "        l_pos += 1\n",
    "    # 合并右半区剩余元素\n",
    "    while r_pos <= right:\n",
    "        tmp.append(list[r_pos])\n",
    "        r_pos += 1\n",
    "\n",
    "    # 把合并后列表复制回原列表\n",
    "    list[left:right+1] = tmp\n",
    "    return list\n",
    "\n",
    "def merge_sort(list, left, right):\n",
    "    if left >= right:\n",
    "        return list\n",
    "    mid = (left + right) // 2\n",
    "    merge_sort(list, left, mid)\n",
    "    merge_sort(list, mid+1, right)\n",
    "    merge(list, left, mid, right)\n",
    "    \n",
    "    return list"
   ]
  },
  {
   "cell_type": "code",
   "execution_count": 47,
   "metadata": {},
   "outputs": [
    {
     "data": {
      "text/plain": [
       "[1, 2, 3, 4, 5, 7]"
      ]
     },
     "execution_count": 47,
     "metadata": {},
     "output_type": "execute_result"
    }
   ],
   "source": [
    "li = [3,1,5,7,2,4] \n",
    "merge_sort(li,0,len(li)-1)"
   ]
  },
  {
   "cell_type": "markdown",
   "metadata": {},
   "source": [
    "### 堆排序\n",
    "- 满二叉树：每一层的节点数都达到最大值\n",
    "- 完全二叉树：叶节点只能出现在最下层和次下层， 并且最下面一层的节点都集  \n",
    "中在该层最左边的若干位置的二叉树\n",
    "\n",
    "使用数组存储：\n",
    "- 下标为i的节点的父节点下标：(i-1)/2【向下取整】\n",
    "- 下标为i的节点的左子节点下标：i*2 + 1\n",
    "- 下标为i的节点的右子节点下标：i*2 + 2\n",
    "\n",
    "顶堆：\n",
    "- 大顶堆：一颗完全二叉树，任意节点比其子节点大\n",
    "- 小顶堆：一颗完全二叉树，任意节点比其子节点小"
   ]
  },
  {
   "cell_type": "markdown",
   "metadata": {},
   "source": [
    "![大顶堆](./Images/大顶堆.png)"
   ]
  },
  {
   "cell_type": "markdown",
   "metadata": {},
   "source": [
    "#### 维护堆的性质【大顶堆】"
   ]
  },
  {
   "cell_type": "markdown",
   "metadata": {},
   "source": [
    "![维护大顶堆](./Images/维护大顶堆_1.png)"
   ]
  },
  {
   "cell_type": "markdown",
   "metadata": {},
   "source": [
    "维护index为1的节点，找出其与两个子节点的最大值（index 3），1 $\\leftrightarrow$ 3"
   ]
  },
  {
   "cell_type": "markdown",
   "metadata": {},
   "source": [
    "![维护大顶堆](./Images/维护大顶堆_2.png)"
   ]
  },
  {
   "cell_type": "markdown",
   "metadata": {},
   "source": [
    "维护index 1的子节点 3（之前最大值的index），找出其与两个子节点的最大值（index 8），3 $\\leftrightarrow$ 8"
   ]
  },
  {
   "cell_type": "markdown",
   "metadata": {},
   "source": [
    "![维护大顶堆](./Images/维护大顶堆_3.png)"
   ]
  },
  {
   "cell_type": "code",
   "execution_count": 2,
   "metadata": {},
   "outputs": [],
   "source": [
    "# 维护堆的性质\n",
    "def heapify(list, n, i): # （列表，维护节点的index）\n",
    "    largest = i\n",
    "    lson = i * 2 + 1\n",
    "    rson = i * 2 + 2\n",
    "    # 找出i节点和其两个子节点中最大元素的index\n",
    "    if lson < n and list[largest] < list[lson]:\n",
    "        largest = lson\n",
    "    if rson < n and list[largest] < list[rson]:\n",
    "        largest = rson\n",
    "    # i 节点需要维护\n",
    "    if largest != i:\n",
    "        list[largest], list[i] = list[i], list[largest]\n",
    "        heapify(list, n, largest)\n",
    "    return list"
   ]
  },
  {
   "cell_type": "markdown",
   "metadata": {},
   "source": [
    "#### 堆排序\n",
    "- 建堆\n",
    "- 把堆顶与堆低元素交换，然后维护index 0的节点\n",
    "- 将堆低元素脱离堆\n",
    "- 循环第二，三步，直至"
   ]
  },
  {
   "cell_type": "code",
   "execution_count": 6,
   "metadata": {},
   "outputs": [],
   "source": [
    "def heap_sort(list):\n",
    "    n = len(list)\n",
    "    # 建堆\n",
    "    # Index n-1的父节点的index\n",
    "    i = n // 2 - 1\n",
    "    while i >= 0:\n",
    "        heapify(list, n-1, i)\n",
    "        i -= 1\n",
    "    # 排序\n",
    "    low = n - 1\n",
    "    while low > 0:\n",
    "        list[low], list[0] = list[0], list[low]\n",
    "        heapify(list, low, 0)\n",
    "        low -= 1\n",
    "    return list"
   ]
  },
  {
   "cell_type": "code",
   "execution_count": 7,
   "metadata": {},
   "outputs": [
    {
     "data": {
      "text/plain": [
       "[1, 2, 3, 4, 7, 8, 9, 10, 14, 16]"
      ]
     },
     "execution_count": 7,
     "metadata": {},
     "output_type": "execute_result"
    }
   ],
   "source": [
    "li = [2, 3, 8, 1, 4, 9, 10, 7, 16, 14]\n",
    "heap_sort(li)"
   ]
  }
 ],
 "metadata": {
  "interpreter": {
   "hash": "7b4b4feff2f24a0f0a34464dbe537a36fda679851528fb8735cb41fa49dffb2d"
  },
  "kernelspec": {
   "display_name": "Python 3.8.5 ('base')",
   "language": "python",
   "name": "python3"
  },
  "language_info": {
   "codemirror_mode": {
    "name": "ipython",
    "version": 3
   },
   "file_extension": ".py",
   "mimetype": "text/x-python",
   "name": "python",
   "nbconvert_exporter": "python",
   "pygments_lexer": "ipython3",
   "version": "3.8.5"
  },
  "orig_nbformat": 4
 },
 "nbformat": 4,
 "nbformat_minor": 2
}
